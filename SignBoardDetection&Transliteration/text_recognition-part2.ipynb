{
  "nbformat": 4,
  "nbformat_minor": 0,
  "metadata": {
    "colab": {
      "name": "text_recognition(image_to_txt).ipynb",
      "provenance": [],
      "collapsed_sections": []
    },
    "kernelspec": {
      "name": "python3",
      "display_name": "Python 3"
    },
    "accelerator": "GPU"
  },
  "cells": [
    {
      "cell_type": "code",
      "metadata": {
        "id": "2LzkPHB-Hb-_",
        "colab_type": "code",
        "colab": {}
      },
      "source": [
        "import os\n",
        "import fnmatch\n",
        "import cv2\n",
        "import numpy as np\n",
        "import string\n",
        "import time\n",
        "\n",
        "from keras.preprocessing.sequence import pad_sequences\n",
        "\n",
        "from keras.layers import Dense, LSTM, Reshape, BatchNormalization,add, Input, Conv2D, MaxPool2D, Lambda, Bidirectional,GRU,concatenate,Reshape\n",
        "from keras.models import Model\n",
        "from keras.activations import relu, sigmoid, softmax\n",
        "import keras.backend as K\n",
        "from keras.utils import to_categorical\n",
        "from keras.callbacks import ModelCheckpoint"
      ],
      "execution_count": 1,
      "outputs": []
    },
    {
      "cell_type": "code",
      "metadata": {
        "id": "AsFeD1aeIAv6",
        "colab_type": "code",
        "colab": {
          "base_uri": "https://localhost:8080/",
          "height": 544
        },
        "outputId": "29c50c60-b6d3-4e65-d323-4e6aefb8ed32"
      },
      "source": [
        "import tensorflow as tf\n",
        "from tensorflow.python.client import device_lib\n",
        "# Check all available devices if GPU is available\n",
        "print(device_lib.list_local_devices())"
      ],
      "execution_count": 2,
      "outputs": [
        {
          "output_type": "stream",
          "text": [
            "[name: \"/device:CPU:0\"\n",
            "device_type: \"CPU\"\n",
            "memory_limit: 268435456\n",
            "locality {\n",
            "}\n",
            "incarnation: 4122501837338607393\n",
            ", name: \"/device:XLA_CPU:0\"\n",
            "device_type: \"XLA_CPU\"\n",
            "memory_limit: 17179869184\n",
            "locality {\n",
            "}\n",
            "incarnation: 1588555691359846685\n",
            "physical_device_desc: \"device: XLA_CPU device\"\n",
            ", name: \"/device:XLA_GPU:0\"\n",
            "device_type: \"XLA_GPU\"\n",
            "memory_limit: 17179869184\n",
            "locality {\n",
            "}\n",
            "incarnation: 15753608763222600727\n",
            "physical_device_desc: \"device: XLA_GPU device\"\n",
            ", name: \"/device:GPU:0\"\n",
            "device_type: \"GPU\"\n",
            "memory_limit: 11146722048\n",
            "locality {\n",
            "  bus_id: 1\n",
            "  links {\n",
            "  }\n",
            "}\n",
            "incarnation: 15166062688431528011\n",
            "physical_device_desc: \"device: 0, name: Tesla K80, pci bus id: 0000:00:04.0, compute capability: 3.7\"\n",
            "]\n"
          ],
          "name": "stdout"
        }
      ]
    },
    {
      "cell_type": "code",
      "metadata": {
        "id": "ixHoXIpXIXep",
        "colab_type": "code",
        "colab": {
          "base_uri": "https://localhost:8080/",
          "height": 51
        },
        "outputId": "5ca1b2a8-21ed-448f-95f8-94f7917a6e64"
      },
      "source": [
        "data_path=\"/content/drive/My Drive/cropped_data/cropped_dir/\"\n",
        "label_path=\"/content/drive/My Drive/cropped_data/annotations.txt\"\n",
        "\n",
        "file=open(label_path)\n",
        "list=file.read().splitlines()\n",
        "\n",
        "image_list=[]\n",
        "label_list=[]\n",
        "for i in range(len(list)):\n",
        "  label=(list[i].split(\"\\t\")[1])\n",
        "  image_name=data_path+str(i)+\".jpg\"\n",
        "  image_list.append(image_name)\n",
        "  label_list.append(label)\n",
        "print(len(label_list))\n",
        "print(len(image_list))"
      ],
      "execution_count": 3,
      "outputs": [
        {
          "output_type": "stream",
          "text": [
            "1740\n",
            "1740\n"
          ],
          "name": "stdout"
        }
      ]
    },
    {
      "cell_type": "code",
      "metadata": {
        "id": "-gpevmDZIuI_",
        "colab_type": "code",
        "colab": {
          "base_uri": "https://localhost:8080/",
          "height": 71
        },
        "outputId": "04cac2a7-69f5-4964-cb4a-2045f064f8d2"
      },
      "source": [
        "hindi_alphabets = [chr(alpha) for alpha in range(2304, 2432)]\n",
        "char_list=[]\n",
        "\n",
        "char_list=hindi_alphabets\n",
        "char_list.insert(0,'-')\n",
        "print(char_list)\n",
        "def encode_to_labels(txt):\n",
        "    # encoding each output word into digits\n",
        "    dig_lst = []\n",
        "    for index, char in enumerate(txt):\n",
        "        try:\n",
        "            dig_lst.append(char_list.index(char))\n",
        "        except:\n",
        "            print(char)\n",
        "        \n",
        "    return dig_lst\n",
        "print(len(char_list))"
      ],
      "execution_count": 68,
      "outputs": [
        {
          "output_type": "stream",
          "text": [
            "['-', 'ऀ', 'ँ', 'ं', 'ः', 'ऄ', 'अ', 'आ', 'इ', 'ई', 'उ', 'ऊ', 'ऋ', 'ऌ', 'ऍ', 'ऎ', 'ए', 'ऐ', 'ऑ', 'ऒ', 'ओ', 'औ', 'क', 'ख', 'ग', 'घ', 'ङ', 'च', 'छ', 'ज', 'झ', 'ञ', 'ट', 'ठ', 'ड', 'ढ', 'ण', 'त', 'थ', 'द', 'ध', 'न', 'ऩ', 'प', 'फ', 'ब', 'भ', 'म', 'य', 'र', 'ऱ', 'ल', 'ळ', 'ऴ', 'व', 'श', 'ष', 'स', 'ह', 'ऺ', 'ऻ', '़', 'ऽ', 'ा', 'ि', 'ी', 'ु', 'ू', 'ृ', 'ॄ', 'ॅ', 'ॆ', 'े', 'ै', 'ॉ', 'ॊ', 'ो', 'ौ', '्', 'ॎ', 'ॏ', 'ॐ', '॑', '॒', '॓', '॔', 'ॕ', 'ॖ', 'ॗ', 'क़', 'ख़', 'ग़', 'ज़', 'ड़', 'ढ़', 'फ़', 'य़', 'ॠ', 'ॡ', 'ॢ', 'ॣ', '।', '॥', '०', '१', '२', '३', '४', '५', '६', '७', '८', '९', '॰', 'ॱ', 'ॲ', 'ॳ', 'ॴ', 'ॵ', 'ॶ', 'ॷ', 'ॸ', 'ॹ', 'ॺ', 'ॻ', 'ॼ', 'ॽ', 'ॾ', 'ॿ']\n",
            "129\n"
          ],
          "name": "stdout"
        }
      ]
    },
    {
      "cell_type": "code",
      "metadata": {
        "id": "njOSGT-JKmBn",
        "colab_type": "code",
        "colab": {
          "base_uri": "https://localhost:8080/",
          "height": 71
        },
        "outputId": "7334b6fa-8908-45a4-d510-bba3998ccfbf"
      },
      "source": [
        "mylist=[i+\"+\"+j for i,j in zip(image_list,label_list)]\n",
        "print(mylist)\n",
        "from sklearn.model_selection import train_test_split\n",
        "train,test = train_test_split(mylist, test_size=0.15,random_state=11)\n",
        "print(len(train), len(test))"
      ],
      "execution_count": 69,
      "outputs": [
        {
          "output_type": "stream",
          "text": [
            "['/content/drive/My Drive/cropped_data/cropped_dir/0.jpg+जल', '/content/drive/My Drive/cropped_data/cropped_dir/1.jpg+शोध', '/content/drive/My Drive/cropped_data/cropped_dir/2.jpg+न', '/content/drive/My Drive/cropped_data/cropped_dir/3.jpg+संयंत्र', '/content/drive/My Drive/cropped_data/cropped_dir/4.jpg+बिना', '/content/drive/My Drive/cropped_data/cropped_dir/5.jpg+आज्ञा', '/content/drive/My Drive/cropped_data/cropped_dir/6.jpg+प्रवेश', '/content/drive/My Drive/cropped_data/cropped_dir/7.jpg+निषेध', '/content/drive/My Drive/cropped_data/cropped_dir/8.jpg+नगर', '/content/drive/My Drive/cropped_data/cropped_dir/9.jpg+पालिका', '/content/drive/My Drive/cropped_data/cropped_dir/10.jpg+परिषद', '/content/drive/My Drive/cropped_data/cropped_dir/11.jpg+इटारसी', '/content/drive/My Drive/cropped_data/cropped_dir/12.jpg+जिला', '/content/drive/My Drive/cropped_data/cropped_dir/13.jpg+होशंगाबाद', '/content/drive/My Drive/cropped_data/cropped_dir/14.jpg+मप्र', '/content/drive/My Drive/cropped_data/cropped_dir/15.jpg+स्वच्छ', '/content/drive/My Drive/cropped_data/cropped_dir/16.jpg+भारत', '/content/drive/My Drive/cropped_data/cropped_dir/17.jpg+स्वच्छ', '/content/drive/My Drive/cropped_data/cropped_dir/18.jpg+भारत', '/content/drive/My Drive/cropped_data/cropped_dir/19.jpg+अभियान', '/content/drive/My Drive/cropped_data/cropped_dir/20.jpg+स्वच्छता', '/content/drive/My Drive/cropped_data/cropped_dir/21.jpg+का', '/content/drive/My Drive/cropped_data/cropped_dir/22.jpg+ध्यान', '/content/drive/My Drive/cropped_data/cropped_dir/23.jpg+रखें', '/content/drive/My Drive/cropped_data/cropped_dir/24.jpg+गंदगी', '/content/drive/My Drive/cropped_data/cropped_dir/25.jpg+न', '/content/drive/My Drive/cropped_data/cropped_dir/26.jpg+करें', '/content/drive/My Drive/cropped_data/cropped_dir/27.jpg+शहर', '/content/drive/My Drive/cropped_data/cropped_dir/28.jpg+को', '/content/drive/My Drive/cropped_data/cropped_dir/29.jpg+खुले', '/content/drive/My Drive/cropped_data/cropped_dir/30.jpg+में', '/content/drive/My Drive/cropped_data/cropped_dir/31.jpg+शौच', '/content/drive/My Drive/cropped_data/cropped_dir/32.jpg+से', '/content/drive/My Drive/cropped_data/cropped_dir/33.jpg+मुक्त', '/content/drive/My Drive/cropped_data/cropped_dir/34.jpg+कराना', '/content/drive/My Drive/cropped_data/cropped_dir/35.jpg+है', '/content/drive/My Drive/cropped_data/cropped_dir/36.jpg+शौचालय', '/content/drive/My Drive/cropped_data/cropped_dir/37.jpg+का', '/content/drive/My Drive/cropped_data/cropped_dir/38.jpg+उपयोग', '/content/drive/My Drive/cropped_data/cropped_dir/39.jpg+करें', '/content/drive/My Drive/cropped_data/cropped_dir/40.jpg+महिला', '/content/drive/My Drive/cropped_data/cropped_dir/41.jpg+पुरुष', '/content/drive/My Drive/cropped_data/cropped_dir/42.jpg+मूर्तिकार', '/content/drive/My Drive/cropped_data/cropped_dir/43.jpg+राजदीप', '/content/drive/My Drive/cropped_data/cropped_dir/44.jpg+सोनू', '/content/drive/My Drive/cropped_data/cropped_dir/45.jpg+ॐ', '/content/drive/My Drive/cropped_data/cropped_dir/46.jpg+ॐ', '/content/drive/My Drive/cropped_data/cropped_dir/47.jpg+सुनील', '/content/drive/My Drive/cropped_data/cropped_dir/48.jpg+लांड्री', '/content/drive/My Drive/cropped_data/cropped_dir/49.jpg+९७१३९७६५२०', '/content/drive/My Drive/cropped_data/cropped_dir/50.jpg+शादी', '/content/drive/My Drive/cropped_data/cropped_dir/51.jpg+कार्ड', '/content/drive/My Drive/cropped_data/cropped_dir/52.jpg+संदीप', '/content/drive/My Drive/cropped_data/cropped_dir/53.jpg+प्रिंटर्स', '/content/drive/My Drive/cropped_data/cropped_dir/54.jpg+बुक', '/content/drive/My Drive/cropped_data/cropped_dir/55.jpg+बाइंडिंग', '/content/drive/My Drive/cropped_data/cropped_dir/56.jpg+मल्टीकलर', '/content/drive/My Drive/cropped_data/cropped_dir/57.jpg+विजिटिंग', '/content/drive/My Drive/cropped_data/cropped_dir/58.jpg+कार्ड', '/content/drive/My Drive/cropped_data/cropped_dir/59.jpg+समस्त', '/content/drive/My Drive/cropped_data/cropped_dir/60.jpg+छपाई', '/content/drive/My Drive/cropped_data/cropped_dir/61.jpg+के', '/content/drive/My Drive/cropped_data/cropped_dir/62.jpg+कार्य', '/content/drive/My Drive/cropped_data/cropped_dir/63.jpg+सूचना', '/content/drive/My Drive/cropped_data/cropped_dir/64.jpg+कार्यालय', '/content/drive/My Drive/cropped_data/cropped_dir/65.jpg+के', '/content/drive/My Drive/cropped_data/cropped_dir/66.jpg+सामने', '/content/drive/My Drive/cropped_data/cropped_dir/67.jpg+वाहन', '/content/drive/My Drive/cropped_data/cropped_dir/68.jpg+खड़ा', '/content/drive/My Drive/cropped_data/cropped_dir/69.jpg+न', '/content/drive/My Drive/cropped_data/cropped_dir/70.jpg+करें', '/content/drive/My Drive/cropped_data/cropped_dir/71.jpg+अन्यथा', '/content/drive/My Drive/cropped_data/cropped_dir/72.jpg+अर्थदंड', '/content/drive/My Drive/cropped_data/cropped_dir/73.jpg+रू', '/content/drive/My Drive/cropped_data/cropped_dir/74.jpg+व', '/content/drive/My Drive/cropped_data/cropped_dir/75.jpg+न्यायिक', '/content/drive/My Drive/cropped_data/cropped_dir/76.jpg+कार्यवाही', '/content/drive/My Drive/cropped_data/cropped_dir/77.jpg+की', '/content/drive/My Drive/cropped_data/cropped_dir/78.jpg+जावेगी', '/content/drive/My Drive/cropped_data/cropped_dir/79.jpg+मुख्य', '/content/drive/My Drive/cropped_data/cropped_dir/80.jpg+कल्याण', '/content/drive/My Drive/cropped_data/cropped_dir/81.jpg+निरीक्षक', '/content/drive/My Drive/cropped_data/cropped_dir/82.jpg+इटारसी', '/content/drive/My Drive/cropped_data/cropped_dir/83.jpg+भारतीय', '/content/drive/My Drive/cropped_data/cropped_dir/84.jpg+रेल', '/content/drive/My Drive/cropped_data/cropped_dir/85.jpg+शुभ', '/content/drive/My Drive/cropped_data/cropped_dir/86.jpg+बैटरी', '/content/drive/My Drive/cropped_data/cropped_dir/87.jpg+चार्जर', '/content/drive/My Drive/cropped_data/cropped_dir/88.jpg+रूम', '/content/drive/My Drive/cropped_data/cropped_dir/89.jpg+राज', '/content/drive/My Drive/cropped_data/cropped_dir/90.jpg+चाट', '/content/drive/My Drive/cropped_data/cropped_dir/91.jpg+सेंटर', '/content/drive/My Drive/cropped_data/cropped_dir/92.jpg+शिव', '/content/drive/My Drive/cropped_data/cropped_dir/93.jpg+कंप्यूटर', '/content/drive/My Drive/cropped_data/cropped_dir/94.jpg+सेल्स', '/content/drive/My Drive/cropped_data/cropped_dir/95.jpg+एण्ड', '/content/drive/My Drive/cropped_data/cropped_dir/96.jpg+सर्विस', '/content/drive/My Drive/cropped_data/cropped_dir/97.jpg+शिव', '/content/drive/My Drive/cropped_data/cropped_dir/98.jpg+पटैल', '/content/drive/My Drive/cropped_data/cropped_dir/99.jpg+धूम्रपान', '/content/drive/My Drive/cropped_data/cropped_dir/100.jpg+निषेध', '/content/drive/My Drive/cropped_data/cropped_dir/101.jpg+रेल', '/content/drive/My Drive/cropped_data/cropped_dir/102.jpg+परिसर', '/content/drive/My Drive/cropped_data/cropped_dir/103.jpg+ट्रेन', '/content/drive/My Drive/cropped_data/cropped_dir/104.jpg+में', '/content/drive/My Drive/cropped_data/cropped_dir/105.jpg+धूम्रपान', '/content/drive/My Drive/cropped_data/cropped_dir/106.jpg+तम्बाकू', '/content/drive/My Drive/cropped_data/cropped_dir/107.jpg+का', '/content/drive/My Drive/cropped_data/cropped_dir/108.jpg+सेवन', '/content/drive/My Drive/cropped_data/cropped_dir/109.jpg+करना', '/content/drive/My Drive/cropped_data/cropped_dir/110.jpg+रेल', '/content/drive/My Drive/cropped_data/cropped_dir/111.jpg+अधिनियम', '/content/drive/My Drive/cropped_data/cropped_dir/112.jpg+की', '/content/drive/My Drive/cropped_data/cropped_dir/113.jpg+धारा', '/content/drive/My Drive/cropped_data/cropped_dir/114.jpg+व', '/content/drive/My Drive/cropped_data/cropped_dir/115.jpg+के', '/content/drive/My Drive/cropped_data/cropped_dir/116.jpg+तहत', '/content/drive/My Drive/cropped_data/cropped_dir/117.jpg+दण्डनीय', '/content/drive/My Drive/cropped_data/cropped_dir/118.jpg+अपराध', '/content/drive/My Drive/cropped_data/cropped_dir/119.jpg+है', '/content/drive/My Drive/cropped_data/cropped_dir/120.jpg+हनुमान', '/content/drive/My Drive/cropped_data/cropped_dir/121.jpg+धाम', '/content/drive/My Drive/cropped_data/cropped_dir/122.jpg+दादा', '/content/drive/My Drive/cropped_data/cropped_dir/123.jpg+की', '/content/drive/My Drive/cropped_data/cropped_dir/124.jpg+जय', '/content/drive/My Drive/cropped_data/cropped_dir/125.jpg+प्लेटफार्म', '/content/drive/My Drive/cropped_data/cropped_dir/126.jpg+न', '/content/drive/My Drive/cropped_data/cropped_dir/127.jpg+४', '/content/drive/My Drive/cropped_data/cropped_dir/128.jpg+व', '/content/drive/My Drive/cropped_data/cropped_dir/129.jpg+सेल्फी', '/content/drive/My Drive/cropped_data/cropped_dir/130.jpg+विथ', '/content/drive/My Drive/cropped_data/cropped_dir/131.jpg+इटारसी', '/content/drive/My Drive/cropped_data/cropped_dir/132.jpg+सरोवर', '/content/drive/My Drive/cropped_data/cropped_dir/133.jpg+के', '/content/drive/My Drive/cropped_data/cropped_dir/134.jpg+फेसबुक', '/content/drive/My Drive/cropped_data/cropped_dir/135.jpg+पेज', '/content/drive/My Drive/cropped_data/cropped_dir/136.jpg+को', '/content/drive/My Drive/cropped_data/cropped_dir/137.jpg+लाइक', '/content/drive/My Drive/cropped_data/cropped_dir/138.jpg+करे', '/content/drive/My Drive/cropped_data/cropped_dir/139.jpg+एवं', '/content/drive/My Drive/cropped_data/cropped_dir/140.jpg+उस', '/content/drive/My Drive/cropped_data/cropped_dir/141.jpg+पर', '/content/drive/My Drive/cropped_data/cropped_dir/142.jpg+अपनी', '/content/drive/My Drive/cropped_data/cropped_dir/143.jpg+सेल्फी', '/content/drive/My Drive/cropped_data/cropped_dir/144.jpg+डाले', '/content/drive/My Drive/cropped_data/cropped_dir/145.jpg+प', '/content/drive/My Drive/cropped_data/cropped_dir/146.jpg+मध्य', '/content/drive/My Drive/cropped_data/cropped_dir/147.jpg+रेल', '/content/drive/My Drive/cropped_data/cropped_dir/148.jpg+वृन्दावन', '/content/drive/My Drive/cropped_data/cropped_dir/149.jpg+विहार', '/content/drive/My Drive/cropped_data/cropped_dir/150.jpg+कालोनी', '/content/drive/My Drive/cropped_data/cropped_dir/151.jpg+वर्मा', '/content/drive/My Drive/cropped_data/cropped_dir/152.jpg+कालोनी', '/content/drive/My Drive/cropped_data/cropped_dir/153.jpg+के', '/content/drive/My Drive/cropped_data/cropped_dir/154.jpg+पीछे', '/content/drive/My Drive/cropped_data/cropped_dir/155.jpg+फोटो', '/content/drive/My Drive/cropped_data/cropped_dir/156.jpg+कापी', '/content/drive/My Drive/cropped_data/cropped_dir/157.jpg+लेमिनेशन', '/content/drive/My Drive/cropped_data/cropped_dir/158.jpg+चाय', '/content/drive/My Drive/cropped_data/cropped_dir/159.jpg+एवं', '/content/drive/My Drive/cropped_data/cropped_dir/160.jpg+स्वल्पाहार', '/content/drive/My Drive/cropped_data/cropped_dir/161.jpg+रेल', '/content/drive/My Drive/cropped_data/cropped_dir/162.jpg+आहार', '/content/drive/My Drive/cropped_data/cropped_dir/163.jpg+इटारसी', '/content/drive/My Drive/cropped_data/cropped_dir/164.jpg+जं', '/content/drive/My Drive/cropped_data/cropped_dir/165.jpg+भगवान', '/content/drive/My Drive/cropped_data/cropped_dir/166.jpg+नित्यानंद', '/content/drive/My Drive/cropped_data/cropped_dir/167.jpg+संगीत', '/content/drive/My Drive/cropped_data/cropped_dir/168.jpg+महा', '/content/drive/My Drive/cropped_data/cropped_dir/169.jpg+विद्यालय', '/content/drive/My Drive/cropped_data/cropped_dir/170.jpg+प्रयाग', '/content/drive/My Drive/cropped_data/cropped_dir/171.jpg+संगीत', '/content/drive/My Drive/cropped_data/cropped_dir/172.jpg+समिति', '/content/drive/My Drive/cropped_data/cropped_dir/173.jpg+इलाहबाद', '/content/drive/My Drive/cropped_data/cropped_dir/174.jpg+से', '/content/drive/My Drive/cropped_data/cropped_dir/175.jpg+संबध्द', '/content/drive/My Drive/cropped_data/cropped_dir/176.jpg+भोपाल', '/content/drive/My Drive/cropped_data/cropped_dir/177.jpg+सहकारी', '/content/drive/My Drive/cropped_data/cropped_dir/178.jpg+दुग्ध', '/content/drive/My Drive/cropped_data/cropped_dir/179.jpg+संघ', '/content/drive/My Drive/cropped_data/cropped_dir/180.jpg+मर्यादित', '/content/drive/My Drive/cropped_data/cropped_dir/181.jpg+मुनाफा', '/content/drive/My Drive/cropped_data/cropped_dir/182.jpg+नही', '/content/drive/My Drive/cropped_data/cropped_dir/183.jpg+सेवा', '/content/drive/My Drive/cropped_data/cropped_dir/184.jpg+लक्ष्य', '/content/drive/My Drive/cropped_data/cropped_dir/185.jpg+एक', '/content/drive/My Drive/cropped_data/cropped_dir/186.jpg+कदम', '/content/drive/My Drive/cropped_data/cropped_dir/187.jpg+स्वच्छता', '/content/drive/My Drive/cropped_data/cropped_dir/188.jpg+की', '/content/drive/My Drive/cropped_data/cropped_dir/189.jpg+ओर', '/content/drive/My Drive/cropped_data/cropped_dir/190.jpg+कृपया', '/content/drive/My Drive/cropped_data/cropped_dir/191.jpg+कचरा', '/content/drive/My Drive/cropped_data/cropped_dir/192.jpg+डस्टबिन', '/content/drive/My Drive/cropped_data/cropped_dir/193.jpg+में', '/content/drive/My Drive/cropped_data/cropped_dir/194.jpg+डाले', '/content/drive/My Drive/cropped_data/cropped_dir/195.jpg+साँची', '/content/drive/My Drive/cropped_data/cropped_dir/196.jpg+गुलाब', '/content/drive/My Drive/cropped_data/cropped_dir/197.jpg+जामुन', '/content/drive/My Drive/cropped_data/cropped_dir/198.jpg+रसगुल्ले', '/content/drive/My Drive/cropped_data/cropped_dir/199.jpg+साँची', '/content/drive/My Drive/cropped_data/cropped_dir/200.jpg+गुलाब', '/content/drive/My Drive/cropped_data/cropped_dir/201.jpg+जामुन', '/content/drive/My Drive/cropped_data/cropped_dir/202.jpg+रसगुल्ले', '/content/drive/My Drive/cropped_data/cropped_dir/203.jpg+अगरबत्ती', '/content/drive/My Drive/cropped_data/cropped_dir/204.jpg+दीपक', '/content/drive/My Drive/cropped_data/cropped_dir/205.jpg+लाना', '/content/drive/My Drive/cropped_data/cropped_dir/206.jpg+मना', '/content/drive/My Drive/cropped_data/cropped_dir/207.jpg+है', '/content/drive/My Drive/cropped_data/cropped_dir/208.jpg+प्रो', '/content/drive/My Drive/cropped_data/cropped_dir/209.jpg+कृष्णमूर्ति', '/content/drive/My Drive/cropped_data/cropped_dir/210.jpg+शिवलिगम', '/content/drive/My Drive/cropped_data/cropped_dir/211.jpg+विभागाध्यक्ष', '/content/drive/My Drive/cropped_data/cropped_dir/212.jpg+पमरे', '/content/drive/My Drive/cropped_data/cropped_dir/213.jpg+आर', '/content/drive/My Drive/cropped_data/cropped_dir/214.jpg+पी', '/content/drive/My Drive/cropped_data/cropped_dir/215.jpg+एफ', '/content/drive/My Drive/cropped_data/cropped_dir/216.jpg+इटारसी', '/content/drive/My Drive/cropped_data/cropped_dir/217.jpg+यशो', '/content/drive/My Drive/cropped_data/cropped_dir/218.jpg+लभस्व', '/content/drive/My Drive/cropped_data/cropped_dir/219.jpg+आपकी', '/content/drive/My Drive/cropped_data/cropped_dir/220.jpg+यात्रा', '/content/drive/My Drive/cropped_data/cropped_dir/221.jpg+मंगलमय', '/content/drive/My Drive/cropped_data/cropped_dir/222.jpg+हो', '/content/drive/My Drive/cropped_data/cropped_dir/223.jpg+बैंक', '/content/drive/My Drive/cropped_data/cropped_dir/224.jpg+ऑफ', '/content/drive/My Drive/cropped_data/cropped_dir/225.jpg+बड़ोदा', '/content/drive/My Drive/cropped_data/cropped_dir/226.jpg+भारत', '/content/drive/My Drive/cropped_data/cropped_dir/227.jpg+का', '/content/drive/My Drive/cropped_data/cropped_dir/228.jpg+अंतर्राष्ट्रीय', '/content/drive/My Drive/cropped_data/cropped_dir/229.jpg+बैंक', '/content/drive/My Drive/cropped_data/cropped_dir/230.jpg+चौपाटी', '/content/drive/My Drive/cropped_data/cropped_dir/231.jpg+नगर', '/content/drive/My Drive/cropped_data/cropped_dir/232.jpg+पालिका', '/content/drive/My Drive/cropped_data/cropped_dir/233.jpg+परिषद', '/content/drive/My Drive/cropped_data/cropped_dir/234.jpg+इटारसी', '/content/drive/My Drive/cropped_data/cropped_dir/235.jpg+अंग्रेजी', '/content/drive/My Drive/cropped_data/cropped_dir/236.jpg+शराब', '/content/drive/My Drive/cropped_data/cropped_dir/237.jpg+दुकान', '/content/drive/My Drive/cropped_data/cropped_dir/238.jpg+श्री', '/content/drive/My Drive/cropped_data/cropped_dir/239.jpg+साई', '/content/drive/My Drive/cropped_data/cropped_dir/240.jpg+स्टील', '/content/drive/My Drive/cropped_data/cropped_dir/241.jpg+सरिया', '/content/drive/My Drive/cropped_data/cropped_dir/242.jpg+सीमेंट', '/content/drive/My Drive/cropped_data/cropped_dir/243.jpg+चादर', '/content/drive/My Drive/cropped_data/cropped_dir/244.jpg+पाइप', '/content/drive/My Drive/cropped_data/cropped_dir/245.jpg+दरवाजे', '/content/drive/My Drive/cropped_data/cropped_dir/246.jpg+समस्त', '/content/drive/My Drive/cropped_data/cropped_dir/247.jpg+हार्डववेयर', '/content/drive/My Drive/cropped_data/cropped_dir/248.jpg+सामग्री', '/content/drive/My Drive/cropped_data/cropped_dir/249.jpg+उपलब्ध', '/content/drive/My Drive/cropped_data/cropped_dir/250.jpg+मो', '/content/drive/My Drive/cropped_data/cropped_dir/251.jpg+स्वर्ण', '/content/drive/My Drive/cropped_data/cropped_dir/252.jpg+आभूषणों', '/content/drive/My Drive/cropped_data/cropped_dir/253.jpg+के', '/content/drive/My Drive/cropped_data/cropped_dir/254.jpg+निर्माता', '/content/drive/My Drive/cropped_data/cropped_dir/255.jpg+एवं', '/content/drive/My Drive/cropped_data/cropped_dir/256.jpg+विक्रेता', '/content/drive/My Drive/cropped_data/cropped_dir/257.jpg+सोनी', '/content/drive/My Drive/cropped_data/cropped_dir/258.jpg+ट्रेडर्स', '/content/drive/My Drive/cropped_data/cropped_dir/259.jpg+के', '/content/drive/My Drive/cropped_data/cropped_dir/260.jpg+बाजू', '/content/drive/My Drive/cropped_data/cropped_dir/261.jpg+में', '/content/drive/My Drive/cropped_data/cropped_dir/262.jpg+लाइन', '/content/drive/My Drive/cropped_data/cropped_dir/263.jpg+इटारसी', '/content/drive/My Drive/cropped_data/cropped_dir/264.jpg+न्यू', '/content/drive/My Drive/cropped_data/cropped_dir/265.jpg+जायसवाल', '/content/drive/My Drive/cropped_data/cropped_dir/266.jpg+इलेक्ट्रॉनिक्स', '/content/drive/My Drive/cropped_data/cropped_dir/267.jpg+कितना', '/content/drive/My Drive/cropped_data/cropped_dir/268.jpg+जुर्माना', '/content/drive/My Drive/cropped_data/cropped_dir/269.jpg+रखें', '/content/drive/My Drive/cropped_data/cropped_dir/270.jpg+है', '/content/drive/My Drive/cropped_data/cropped_dir/271.jpg+सरकार', '/content/drive/My Drive/cropped_data/cropped_dir/272.jpg+रेल', '/content/drive/My Drive/cropped_data/cropped_dir/273.jpg+परिसर', '/content/drive/My Drive/cropped_data/cropped_dir/274.jpg+में', '/content/drive/My Drive/cropped_data/cropped_dir/275.jpg+गंदगी', '/content/drive/My Drive/cropped_data/cropped_dir/276.jpg+फैलने', '/content/drive/My Drive/cropped_data/cropped_dir/277.jpg+पर', '/content/drive/My Drive/cropped_data/cropped_dir/278.jpg+अरे', '/content/drive/My Drive/cropped_data/cropped_dir/279.jpg+ओ', '/content/drive/My Drive/cropped_data/cropped_dir/280.jpg+सम्भा', '/content/drive/My Drive/cropped_data/cropped_dir/281.jpg+पूरे', '/content/drive/My Drive/cropped_data/cropped_dir/282.jpg+पाँचसौ', '/content/drive/My Drive/cropped_data/cropped_dir/283.jpg+रुपये', '/content/drive/My Drive/cropped_data/cropped_dir/284.jpg+आओ', '/content/drive/My Drive/cropped_data/cropped_dir/285.jpg+स्वच्छ', '/content/drive/My Drive/cropped_data/cropped_dir/286.jpg+भारत', '/content/drive/My Drive/cropped_data/cropped_dir/287.jpg+स्वस्थ', '/content/drive/My Drive/cropped_data/cropped_dir/288.jpg+भारत', '/content/drive/My Drive/cropped_data/cropped_dir/289.jpg+भारत', '/content/drive/My Drive/cropped_data/cropped_dir/290.jpg+सुन्दर', '/content/drive/My Drive/cropped_data/cropped_dir/291.jpg+इटारसी', '/content/drive/My Drive/cropped_data/cropped_dir/292.jpg+सतर्कता', '/content/drive/My Drive/cropped_data/cropped_dir/293.jpg+सप्ताह', '/content/drive/My Drive/cropped_data/cropped_dir/294.jpg+आचरण', '/content/drive/My Drive/cropped_data/cropped_dir/295.jpg+भ्रष्टाचार', '/content/drive/My Drive/cropped_data/cropped_dir/296.jpg+मिटाओ', '/content/drive/My Drive/cropped_data/cropped_dir/297.jpg+नया', '/content/drive/My Drive/cropped_data/cropped_dir/298.jpg+भारत', '/content/drive/My Drive/cropped_data/cropped_dir/299.jpg+बनाओ', '/content/drive/My Drive/cropped_data/cropped_dir/300.jpg+दिनांक', '/content/drive/My Drive/cropped_data/cropped_dir/301.jpg+से', '/content/drive/My Drive/cropped_data/cropped_dir/302.jpg+शयनयान', '/content/drive/My Drive/cropped_data/cropped_dir/303.jpg+आपातकालीन', '/content/drive/My Drive/cropped_data/cropped_dir/304.jpg+खिड़की', '/content/drive/My Drive/cropped_data/cropped_dir/305.jpg+इटारसी', '/content/drive/My Drive/cropped_data/cropped_dir/306.jpg+टिकट', '/content/drive/My Drive/cropped_data/cropped_dir/307.jpg+घर', '/content/drive/My Drive/cropped_data/cropped_dir/308.jpg+टिकट', '/content/drive/My Drive/cropped_data/cropped_dir/309.jpg+घर', '/content/drive/My Drive/cropped_data/cropped_dir/310.jpg+टिकट', '/content/drive/My Drive/cropped_data/cropped_dir/311.jpg+घर', '/content/drive/My Drive/cropped_data/cropped_dir/312.jpg+सौजन्य', '/content/drive/My Drive/cropped_data/cropped_dir/313.jpg+से', '/content/drive/My Drive/cropped_data/cropped_dir/314.jpg+वरिष्ठ', '/content/drive/My Drive/cropped_data/cropped_dir/315.jpg+नागरिक', '/content/drive/My Drive/cropped_data/cropped_dir/316.jpg+संघ', '/content/drive/My Drive/cropped_data/cropped_dir/317.jpg+पुरानी', '/content/drive/My Drive/cropped_data/cropped_dir/318.jpg+इटारसी', '/content/drive/My Drive/cropped_data/cropped_dir/319.jpg+भारतीय', '/content/drive/My Drive/cropped_data/cropped_dir/320.jpg+रेल', '/content/drive/My Drive/cropped_data/cropped_dir/321.jpg+नूपुर', '/content/drive/My Drive/cropped_data/cropped_dir/322.jpg+डाँस', '/content/drive/My Drive/cropped_data/cropped_dir/323.jpg+क्लास', '/content/drive/My Drive/cropped_data/cropped_dir/324.jpg+दवाईयाँ', '/content/drive/My Drive/cropped_data/cropped_dir/325.jpg+भवानी', '/content/drive/My Drive/cropped_data/cropped_dir/326.jpg+मेडीकल', '/content/drive/My Drive/cropped_data/cropped_dir/327.jpg+स्टोर्स', '/content/drive/My Drive/cropped_data/cropped_dir/328.jpg+दीवान', '/content/drive/My Drive/cropped_data/cropped_dir/329.jpg+कालोनी', '/content/drive/My Drive/cropped_data/cropped_dir/330.jpg+इटारसी', '/content/drive/My Drive/cropped_data/cropped_dir/331.jpg+मोबा', '/content/drive/My Drive/cropped_data/cropped_dir/332.jpg+न', '/content/drive/My Drive/cropped_data/cropped_dir/333.jpg+मध्य', '/content/drive/My Drive/cropped_data/cropped_dir/334.jpg+कैलाश', '/content/drive/My Drive/cropped_data/cropped_dir/335.jpg+चौबे', '/content/drive/My Drive/cropped_data/cropped_dir/336.jpg+डेंटल', '/content/drive/My Drive/cropped_data/cropped_dir/337.jpg+क्लिनिक', '/content/drive/My Drive/cropped_data/cropped_dir/338.jpg+मुस्कुराईए', '/content/drive/My Drive/cropped_data/cropped_dir/339.jpg+आप', '/content/drive/My Drive/cropped_data/cropped_dir/340.jpg+इटारसी', '/content/drive/My Drive/cropped_data/cropped_dir/341.jpg+में', '/content/drive/My Drive/cropped_data/cropped_dir/342.jpg+है', '/content/drive/My Drive/cropped_data/cropped_dir/343.jpg+जय', '/content/drive/My Drive/cropped_data/cropped_dir/344.jpg+हनुमान', '/content/drive/My Drive/cropped_data/cropped_dir/345.jpg+जी', '/content/drive/My Drive/cropped_data/cropped_dir/346.jpg+स्टेशन', '/content/drive/My Drive/cropped_data/cropped_dir/347.jpg+प्रबन्धक', '/content/drive/My Drive/cropped_data/cropped_dir/348.jpg+स्टेशन', '/content/drive/My Drive/cropped_data/cropped_dir/349.jpg+प्रबन्धक', '/content/drive/My Drive/cropped_data/cropped_dir/350.jpg+भारतीय', '/content/drive/My Drive/cropped_data/cropped_dir/351.jpg+रेल', '/content/drive/My Drive/cropped_data/cropped_dir/352.jpg+भारतीय', '/content/drive/My Drive/cropped_data/cropped_dir/353.jpg+रेल', '/content/drive/My Drive/cropped_data/cropped_dir/354.jpg+श्री', '/content/drive/My Drive/cropped_data/cropped_dir/355.jpg+कृष्णा', '/content/drive/My Drive/cropped_data/cropped_dir/356.jpg+गिफ्ट', '/content/drive/My Drive/cropped_data/cropped_dir/357.jpg+सेंटर', '/content/drive/My Drive/cropped_data/cropped_dir/358.jpg+अनलिमिटेड', '/content/drive/My Drive/cropped_data/cropped_dir/359.jpg+कॉल्स', '/content/drive/My Drive/cropped_data/cropped_dir/360.jpg+डाटा', '/content/drive/My Drive/cropped_data/cropped_dir/361.jpg+१७९', '/content/drive/My Drive/cropped_data/cropped_dir/362.jpg+वैधता', '/content/drive/My Drive/cropped_data/cropped_dir/363.jpg+२८', '/content/drive/My Drive/cropped_data/cropped_dir/364.jpg+दिन', '/content/drive/My Drive/cropped_data/cropped_dir/365.jpg+बेटी', '/content/drive/My Drive/cropped_data/cropped_dir/366.jpg+बचाओ', '/content/drive/My Drive/cropped_data/cropped_dir/367.jpg+बेटी', '/content/drive/My Drive/cropped_data/cropped_dir/368.jpg+पढ़ाओ', '/content/drive/My Drive/cropped_data/cropped_dir/369.jpg+बेटियों', '/content/drive/My Drive/cropped_data/cropped_dir/370.jpg+को', '/content/drive/My Drive/cropped_data/cropped_dir/371.jpg+सशक्त', '/content/drive/My Drive/cropped_data/cropped_dir/372.jpg+बनाएं', '/content/drive/My Drive/cropped_data/cropped_dir/373.jpg+उन्हें', '/content/drive/My Drive/cropped_data/cropped_dir/374.jpg+समान', '/content/drive/My Drive/cropped_data/cropped_dir/375.jpg+अधिकार', '/content/drive/My Drive/cropped_data/cropped_dir/376.jpg+और', '/content/drive/My Drive/cropped_data/cropped_dir/377.jpg+अवसर', '/content/drive/My Drive/cropped_data/cropped_dir/378.jpg+दें', '/content/drive/My Drive/cropped_data/cropped_dir/379.jpg+बेटी', '/content/drive/My Drive/cropped_data/cropped_dir/380.jpg+बचाओ', '/content/drive/My Drive/cropped_data/cropped_dir/381.jpg+बेटी', '/content/drive/My Drive/cropped_data/cropped_dir/382.jpg+पढ़ाओ', '/content/drive/My Drive/cropped_data/cropped_dir/383.jpg+बेटी', '/content/drive/My Drive/cropped_data/cropped_dir/384.jpg+बेटी', '/content/drive/My Drive/cropped_data/cropped_dir/385.jpg+बचाओ', '/content/drive/My Drive/cropped_data/cropped_dir/386.jpg+पढ़ाओ', '/content/drive/My Drive/cropped_data/cropped_dir/387.jpg+आरक्षण', '/content/drive/My Drive/cropped_data/cropped_dir/388.jpg+चार्ट', '/content/drive/My Drive/cropped_data/cropped_dir/389.jpg+फिटनेस', '/content/drive/My Drive/cropped_data/cropped_dir/390.jpg+फाइन', '/content/drive/My Drive/cropped_data/cropped_dir/391.jpg+वुमन', '/content/drive/My Drive/cropped_data/cropped_dir/392.jpg+जिम', '/content/drive/My Drive/cropped_data/cropped_dir/393.jpg+वृन्दावन', '/content/drive/My Drive/cropped_data/cropped_dir/394.jpg+विहार', '/content/drive/My Drive/cropped_data/cropped_dir/395.jpg+चौपाटी', '/content/drive/My Drive/cropped_data/cropped_dir/396.jpg+नगर', '/content/drive/My Drive/cropped_data/cropped_dir/397.jpg+पालिका', '/content/drive/My Drive/cropped_data/cropped_dir/398.jpg+परिषद', '/content/drive/My Drive/cropped_data/cropped_dir/399.jpg+इटारसी', '/content/drive/My Drive/cropped_data/cropped_dir/400.jpg+नगरपालिका', '/content/drive/My Drive/cropped_data/cropped_dir/401.jpg+परिषद', '/content/drive/My Drive/cropped_data/cropped_dir/402.jpg+इटारसी', '/content/drive/My Drive/cropped_data/cropped_dir/403.jpg+फायर', '/content/drive/My Drive/cropped_data/cropped_dir/404.jpg+एण्ड', '/content/drive/My Drive/cropped_data/cropped_dir/405.jpg+व्हीकल', '/content/drive/My Drive/cropped_data/cropped_dir/406.jpg+फोन', '/content/drive/My Drive/cropped_data/cropped_dir/407.jpg+नं', '/content/drive/My Drive/cropped_data/cropped_dir/408.jpg+फायर', '/content/drive/My Drive/cropped_data/cropped_dir/409.jpg+बिग्रेड', '/content/drive/My Drive/cropped_data/cropped_dir/410.jpg+नगर', '/content/drive/My Drive/cropped_data/cropped_dir/411.jpg+पालिका', '/content/drive/My Drive/cropped_data/cropped_dir/412.jpg+परिषद', '/content/drive/My Drive/cropped_data/cropped_dir/413.jpg+इटारसी', '/content/drive/My Drive/cropped_data/cropped_dir/414.jpg+इटारसी', '/content/drive/My Drive/cropped_data/cropped_dir/415.jpg+सरोवर', '/content/drive/My Drive/cropped_data/cropped_dir/416.jpg+सुस्वागतम', '/content/drive/My Drive/cropped_data/cropped_dir/417.jpg+इटारसी', '/content/drive/My Drive/cropped_data/cropped_dir/418.jpg+इटारसी', '/content/drive/My Drive/cropped_data/cropped_dir/419.jpg+जं', '/content/drive/My Drive/cropped_data/cropped_dir/420.jpg+मितेश', '/content/drive/My Drive/cropped_data/cropped_dir/421.jpg+खापरा', '/content/drive/My Drive/cropped_data/cropped_dir/422.jpg+प', '/content/drive/My Drive/cropped_data/cropped_dir/423.jpg+म', '/content/drive/My Drive/cropped_data/cropped_dir/424.jpg+रेल', '/content/drive/My Drive/cropped_data/cropped_dir/425.jpg+लोको', '/content/drive/My Drive/cropped_data/cropped_dir/426.jpg+पायलट', '/content/drive/My Drive/cropped_data/cropped_dir/427.jpg+एवं', '/content/drive/My Drive/cropped_data/cropped_dir/428.jpg+परिचालक', '/content/drive/My Drive/cropped_data/cropped_dir/429.jpg+लॉबी', '/content/drive/My Drive/cropped_data/cropped_dir/430.jpg+इटारसी', '/content/drive/My Drive/cropped_data/cropped_dir/431.jpg+रुकिये', '/content/drive/My Drive/cropped_data/cropped_dir/432.jpg+होशंगाबाद', '/content/drive/My Drive/cropped_data/cropped_dir/433.jpg+भोपाल', '/content/drive/My Drive/cropped_data/cropped_dir/434.jpg+पिपरिया', '/content/drive/My Drive/cropped_data/cropped_dir/435.jpg+पचमढी', '/content/drive/My Drive/cropped_data/cropped_dir/436.jpg+डब्ल्यू', '/content/drive/My Drive/cropped_data/cropped_dir/437.jpg+डी', '/content/drive/My Drive/cropped_data/cropped_dir/438.jpg+पी', '/content/drive/My Drive/cropped_data/cropped_dir/439.jpg+डी', '/content/drive/My Drive/cropped_data/cropped_dir/440.jpg+कैब', '/content/drive/My Drive/cropped_data/cropped_dir/441.jpg+समस्तीपुर', '/content/drive/My Drive/cropped_data/cropped_dir/442.jpg+प्रतीक्षालय', '/content/drive/My Drive/cropped_data/cropped_dir/443.jpg+प्रथम', '/content/drive/My Drive/cropped_data/cropped_dir/444.jpg+श्रेणी', '/content/drive/My Drive/cropped_data/cropped_dir/445.jpg+एवं', '/content/drive/My Drive/cropped_data/cropped_dir/446.jpg+वातानुकुलित', '/content/drive/My Drive/cropped_data/cropped_dir/447.jpg+कुर्सीयान', '/content/drive/My Drive/cropped_data/cropped_dir/448.jpg+यात्रियों', '/content/drive/My Drive/cropped_data/cropped_dir/449.jpg+के', '/content/drive/My Drive/cropped_data/cropped_dir/450.jpg+लिये', '/content/drive/My Drive/cropped_data/cropped_dir/451.jpg+नवीन', '/content/drive/My Drive/cropped_data/cropped_dir/452.jpg+हेयर', '/content/drive/My Drive/cropped_data/cropped_dir/453.jpg+आर्ट', '/content/drive/My Drive/cropped_data/cropped_dir/454.jpg+पश्चिम', '/content/drive/My Drive/cropped_data/cropped_dir/455.jpg+मध्य', '/content/drive/My Drive/cropped_data/cropped_dir/456.jpg+रेल', '/content/drive/My Drive/cropped_data/cropped_dir/457.jpg+भोपाल', '/content/drive/My Drive/cropped_data/cropped_dir/458.jpg+मण्डल', '/content/drive/My Drive/cropped_data/cropped_dir/459.jpg+स्वच्छ', '/content/drive/My Drive/cropped_data/cropped_dir/460.jpg+भारत', '/content/drive/My Drive/cropped_data/cropped_dir/461.jpg+मिशन', '/content/drive/My Drive/cropped_data/cropped_dir/462.jpg+के', '/content/drive/My Drive/cropped_data/cropped_dir/463.jpg+अन्तर्गत', '/content/drive/My Drive/cropped_data/cropped_dir/464.jpg+राष्ट्रीय', '/content/drive/My Drive/cropped_data/cropped_dir/465.jpg+स्वच्छता', '/content/drive/My Drive/cropped_data/cropped_dir/466.jpg+सफाई', '/content/drive/My Drive/cropped_data/cropped_dir/467.jpg+अभियान', '/content/drive/My Drive/cropped_data/cropped_dir/468.jpg+भारतीय', '/content/drive/My Drive/cropped_data/cropped_dir/469.jpg+रेल', '/content/drive/My Drive/cropped_data/cropped_dir/470.jpg+देशी', '/content/drive/My Drive/cropped_data/cropped_dir/471.jpg+शराब', '/content/drive/My Drive/cropped_data/cropped_dir/472.jpg+दुकान', '/content/drive/My Drive/cropped_data/cropped_dir/473.jpg+द्वितीय', '/content/drive/My Drive/cropped_data/cropped_dir/474.jpg+जन', '/content/drive/My Drive/cropped_data/cropped_dir/475.jpg+कुसी', '/content/drive/My Drive/cropped_data/cropped_dir/476.jpg+यान', '/content/drive/My Drive/cropped_data/cropped_dir/477.jpg+सूचना', '/content/drive/My Drive/cropped_data/cropped_dir/478.jpg+पट', '/content/drive/My Drive/cropped_data/cropped_dir/479.jpg+मुख्य', '/content/drive/My Drive/cropped_data/cropped_dir/480.jpg+कल्याण', '/content/drive/My Drive/cropped_data/cropped_dir/481.jpg+निरीक्षक', '/content/drive/My Drive/cropped_data/cropped_dir/482.jpg+अनारक्षित', '/content/drive/My Drive/cropped_data/cropped_dir/483.jpg+खिड़की', '/content/drive/My Drive/cropped_data/cropped_dir/484.jpg+सूचना', '/content/drive/My Drive/cropped_data/cropped_dir/485.jpg+पश्चिम', '/content/drive/My Drive/cropped_data/cropped_dir/486.jpg+मध्य', '/content/drive/My Drive/cropped_data/cropped_dir/487.jpg+भोपाल', '/content/drive/My Drive/cropped_data/cropped_dir/488.jpg+मंडल', '/content/drive/My Drive/cropped_data/cropped_dir/489.jpg+टिकट', '/content/drive/My Drive/cropped_data/cropped_dir/490.jpg+जल', '/content/drive/My Drive/cropped_data/cropped_dir/491.jpg+है', '/content/drive/My Drive/cropped_data/cropped_dir/492.jpg+तो', '/content/drive/My Drive/cropped_data/cropped_dir/493.jpg+कल', '/content/drive/My Drive/cropped_data/cropped_dir/494.jpg+है', '/content/drive/My Drive/cropped_data/cropped_dir/495.jpg+क्रं', '/content/drive/My Drive/cropped_data/cropped_dir/496.jpg+पीने', '/content/drive/My Drive/cropped_data/cropped_dir/497.jpg+का', '/content/drive/My Drive/cropped_data/cropped_dir/498.jpg+पानी', '/content/drive/My Drive/cropped_data/cropped_dir/499.jpg+विभागाध्यक्ष', '/content/drive/My Drive/cropped_data/cropped_dir/500.jpg+कृष्णमूर्ति', '/content/drive/My Drive/cropped_data/cropped_dir/501.jpg+शिवलिंगम', '/content/drive/My Drive/cropped_data/cropped_dir/502.jpg+प्रशासनिक', '/content/drive/My Drive/cropped_data/cropped_dir/503.jpg+कर्मचारी', '/content/drive/My Drive/cropped_data/cropped_dir/504.jpg+रेलवे', '/content/drive/My Drive/cropped_data/cropped_dir/505.jpg+स्वास्थ्य', '/content/drive/My Drive/cropped_data/cropped_dir/506.jpg+केन्द्र', '/content/drive/My Drive/cropped_data/cropped_dir/507.jpg+इटारसी', '/content/drive/My Drive/cropped_data/cropped_dir/508.jpg+पमरे', '/content/drive/My Drive/cropped_data/cropped_dir/509.jpg+कार्यालय', '/content/drive/My Drive/cropped_data/cropped_dir/510.jpg+सहायक', '/content/drive/My Drive/cropped_data/cropped_dir/511.jpg+मण्डल', '/content/drive/My Drive/cropped_data/cropped_dir/512.jpg+अभियंता', '/content/drive/My Drive/cropped_data/cropped_dir/513.jpg+कार्य', '/content/drive/My Drive/cropped_data/cropped_dir/514.jpg+एवं', '/content/drive/My Drive/cropped_data/cropped_dir/515.jpg+निर्माण', '/content/drive/My Drive/cropped_data/cropped_dir/516.jpg+पश्चिम', '/content/drive/My Drive/cropped_data/cropped_dir/517.jpg+मध्य', '/content/drive/My Drive/cropped_data/cropped_dir/518.jpg+रेल', '/content/drive/My Drive/cropped_data/cropped_dir/519.jpg+इटारसी', '/content/drive/My Drive/cropped_data/cropped_dir/520.jpg+यह', '/content/drive/My Drive/cropped_data/cropped_dir/521.jpg+आम', '/content/drive/My Drive/cropped_data/cropped_dir/522.jpg+रास्ता', '/content/drive/My Drive/cropped_data/cropped_dir/523.jpg+नहीं', '/content/drive/My Drive/cropped_data/cropped_dir/524.jpg+है', '/content/drive/My Drive/cropped_data/cropped_dir/525.jpg+मुस्कुराइये', '/content/drive/My Drive/cropped_data/cropped_dir/526.jpg+आप', '/content/drive/My Drive/cropped_data/cropped_dir/527.jpg+इटारसी', '/content/drive/My Drive/cropped_data/cropped_dir/528.jpg+में', '/content/drive/My Drive/cropped_data/cropped_dir/529.jpg+है', '/content/drive/My Drive/cropped_data/cropped_dir/530.jpg+शुभम', '/content/drive/My Drive/cropped_data/cropped_dir/531.jpg+होजयरी', '/content/drive/My Drive/cropped_data/cropped_dir/532.jpg+न्यू', '/content/drive/My Drive/cropped_data/cropped_dir/533.jpg+मार्केट', '/content/drive/My Drive/cropped_data/cropped_dir/534.jpg+इटारसी', '/content/drive/My Drive/cropped_data/cropped_dir/535.jpg+रुपेश', '/content/drive/My Drive/cropped_data/cropped_dir/536.jpg+नासरे', '/content/drive/My Drive/cropped_data/cropped_dir/537.jpg+भंडार', '/content/drive/My Drive/cropped_data/cropped_dir/538.jpg+मार्ग', '/content/drive/My Drive/cropped_data/cropped_dir/539.jpg+की', '/content/drive/My Drive/cropped_data/cropped_dir/540.jpg+सड़क', '/content/drive/My Drive/cropped_data/cropped_dir/541.jpg+सीमा', '/content/drive/My Drive/cropped_data/cropped_dir/542.jpg+मे', '/content/drive/My Drive/cropped_data/cropped_dir/543.jpg+अतिक्रमण', '/content/drive/My Drive/cropped_data/cropped_dir/544.jpg+करना', '/content/drive/My Drive/cropped_data/cropped_dir/545.jpg+दंडनीय', '/content/drive/My Drive/cropped_data/cropped_dir/546.jpg+अफराध', '/content/drive/My Drive/cropped_data/cropped_dir/547.jpg+है', '/content/drive/My Drive/cropped_data/cropped_dir/548.jpg+आदेशानुसार', '/content/drive/My Drive/cropped_data/cropped_dir/549.jpg+कार्यपालन', '/content/drive/My Drive/cropped_data/cropped_dir/550.jpg+यंत्री', '/content/drive/My Drive/cropped_data/cropped_dir/551.jpg+लो', '/content/drive/My Drive/cropped_data/cropped_dir/552.jpg+नि', '/content/drive/My Drive/cropped_data/cropped_dir/553.jpg+वि', '/content/drive/My Drive/cropped_data/cropped_dir/554.jpg+संभाग', '/content/drive/My Drive/cropped_data/cropped_dir/555.jpg+होशंगाबाद', '/content/drive/My Drive/cropped_data/cropped_dir/556.jpg+नगर', '/content/drive/My Drive/cropped_data/cropped_dir/557.jpg+परिषद', '/content/drive/My Drive/cropped_data/cropped_dir/558.jpg+इटारसी', '/content/drive/My Drive/cropped_data/cropped_dir/559.jpg+बेटी', '/content/drive/My Drive/cropped_data/cropped_dir/560.jpg+बेटी', '/content/drive/My Drive/cropped_data/cropped_dir/561.jpg+बचाओ', '/content/drive/My Drive/cropped_data/cropped_dir/562.jpg+बेटी', '/content/drive/My Drive/cropped_data/cropped_dir/563.jpg+नगर', '/content/drive/My Drive/cropped_data/cropped_dir/564.jpg+पालिका', '/content/drive/My Drive/cropped_data/cropped_dir/565.jpg+परिषद', '/content/drive/My Drive/cropped_data/cropped_dir/566.jpg+इटारसी', '/content/drive/My Drive/cropped_data/cropped_dir/567.jpg+कार्यालय', '/content/drive/My Drive/cropped_data/cropped_dir/568.jpg+विद्युत', '/content/drive/My Drive/cropped_data/cropped_dir/569.jpg+इंजन', '/content/drive/My Drive/cropped_data/cropped_dir/570.jpg+पर्यवेक्षक', '/content/drive/My Drive/cropped_data/cropped_dir/571.jpg+टी', '/content/drive/My Drive/cropped_data/cropped_dir/572.jpg+आर', '/content/drive/My Drive/cropped_data/cropped_dir/573.jpg+एस', '/content/drive/My Drive/cropped_data/cropped_dir/574.jpg+इटारसी', '/content/drive/My Drive/cropped_data/cropped_dir/575.jpg+बृजवासी', '/content/drive/My Drive/cropped_data/cropped_dir/576.jpg+लेडीज', '/content/drive/My Drive/cropped_data/cropped_dir/577.jpg+कलेक्शन', '/content/drive/My Drive/cropped_data/cropped_dir/578.jpg+जॉन', '/content/drive/My Drive/cropped_data/cropped_dir/579.jpg+अगस्टिन', '/content/drive/My Drive/cropped_data/cropped_dir/580.jpg+जॉन', '/content/drive/My Drive/cropped_data/cropped_dir/581.jpg+अगस्टिन', '/content/drive/My Drive/cropped_data/cropped_dir/582.jpg+भोले', '/content/drive/My Drive/cropped_data/cropped_dir/583.jpg+गंगा', '/content/drive/My Drive/cropped_data/cropped_dir/584.jpg+बालक', '/content/drive/My Drive/cropped_data/cropped_dir/585.jpg+मंडल', '/content/drive/My Drive/cropped_data/cropped_dir/586.jpg+जय', '/content/drive/My Drive/cropped_data/cropped_dir/587.jpg+श्री', '/content/drive/My Drive/cropped_data/cropped_dir/588.jpg+राम', '/content/drive/My Drive/cropped_data/cropped_dir/589.jpg+श्री', '/content/drive/My Drive/cropped_data/cropped_dir/590.jpg+खेड़ापति', '/content/drive/My Drive/cropped_data/cropped_dir/591.jpg+माता', '/content/drive/My Drive/cropped_data/cropped_dir/592.jpg+मंदिर', '/content/drive/My Drive/cropped_data/cropped_dir/593.jpg+साई', '/content/drive/My Drive/cropped_data/cropped_dir/594.jpg+सेवा', '/content/drive/My Drive/cropped_data/cropped_dir/595.jpg+समिति', '/content/drive/My Drive/cropped_data/cropped_dir/596.jpg+सी', '/content/drive/My Drive/cropped_data/cropped_dir/597.jpg+पी', '/content/drive/My Drive/cropped_data/cropped_dir/598.jpg+गेट', '/content/drive/My Drive/cropped_data/cropped_dir/599.jpg+पुरानी', '/content/drive/My Drive/cropped_data/cropped_dir/600.jpg+इटारसी', '/content/drive/My Drive/cropped_data/cropped_dir/601.jpg+भारतीय', '/content/drive/My Drive/cropped_data/cropped_dir/602.jpg+रेल', '/content/drive/My Drive/cropped_data/cropped_dir/603.jpg+ऊँ', '/content/drive/My Drive/cropped_data/cropped_dir/604.jpg+श्री', '/content/drive/My Drive/cropped_data/cropped_dir/605.jpg+लाफ', '/content/drive/My Drive/cropped_data/cropped_dir/606.jpg+शुभ', '/content/drive/My Drive/cropped_data/cropped_dir/607.jpg+बाहर', '/content/drive/My Drive/cropped_data/cropped_dir/608.jpg+जय', '/content/drive/My Drive/cropped_data/cropped_dir/609.jpg+हनुमान', '/content/drive/My Drive/cropped_data/cropped_dir/610.jpg+जी', '/content/drive/My Drive/cropped_data/cropped_dir/611.jpg+संस्कृति', '/content/drive/My Drive/cropped_data/cropped_dir/612.jpg+मेडिकल', '/content/drive/My Drive/cropped_data/cropped_dir/613.jpg+स्टोर्स', '/content/drive/My Drive/cropped_data/cropped_dir/614.jpg+लिफ्ट', '/content/drive/My Drive/cropped_data/cropped_dir/615.jpg+राधे', '/content/drive/My Drive/cropped_data/cropped_dir/616.jpg+राधे', '/content/drive/My Drive/cropped_data/cropped_dir/617.jpg+पान', '/content/drive/My Drive/cropped_data/cropped_dir/618.jpg+सेन्टर', '/content/drive/My Drive/cropped_data/cropped_dir/619.jpg+विश्वकर्मा', '/content/drive/My Drive/cropped_data/cropped_dir/620.jpg+फर्नीचर', '/content/drive/My Drive/cropped_data/cropped_dir/621.jpg+धूम्रपान', '/content/drive/My Drive/cropped_data/cropped_dir/622.jpg+स्वास्थ्य', '/content/drive/My Drive/cropped_data/cropped_dir/623.jpg+के', '/content/drive/My Drive/cropped_data/cropped_dir/624.jpg+लिए', '/content/drive/My Drive/cropped_data/cropped_dir/625.jpg+हानिकारक', '/content/drive/My Drive/cropped_data/cropped_dir/626.jpg+है', '/content/drive/My Drive/cropped_data/cropped_dir/627.jpg+बालाजी', '/content/drive/My Drive/cropped_data/cropped_dir/628.jpg+वेल्डिंग', '/content/drive/My Drive/cropped_data/cropped_dir/629.jpg+वर्क्स', '/content/drive/My Drive/cropped_data/cropped_dir/630.jpg+आधुनिक', '/content/drive/My Drive/cropped_data/cropped_dir/631.jpg+फर्नीचर', '/content/drive/My Drive/cropped_data/cropped_dir/632.jpg+के', '/content/drive/My Drive/cropped_data/cropped_dir/633.jpg+निर्माता', '/content/drive/My Drive/cropped_data/cropped_dir/634.jpg+एवं', '/content/drive/My Drive/cropped_data/cropped_dir/635.jpg+विक्रेता', '/content/drive/My Drive/cropped_data/cropped_dir/636.jpg+ऑटो', '/content/drive/My Drive/cropped_data/cropped_dir/637.jpg+श्री', '/content/drive/My Drive/cropped_data/cropped_dir/638.jpg+शंकर', '/content/drive/My Drive/cropped_data/cropped_dir/639.jpg+जनरल', '/content/drive/My Drive/cropped_data/cropped_dir/640.jpg+स्टोर', '/content/drive/My Drive/cropped_data/cropped_dir/641.jpg+सौन्दर्य', '/content/drive/My Drive/cropped_data/cropped_dir/642.jpg+प्रसाधन', '/content/drive/My Drive/cropped_data/cropped_dir/643.jpg+स्टेशनरी', '/content/drive/My Drive/cropped_data/cropped_dir/644.jpg+टेलरिंग', '/content/drive/My Drive/cropped_data/cropped_dir/645.jpg+मटेरियल', '/content/drive/My Drive/cropped_data/cropped_dir/646.jpg+इटारसी', '/content/drive/My Drive/cropped_data/cropped_dir/647.jpg+होशंगाबाद', '/content/drive/My Drive/cropped_data/cropped_dir/648.jpg+बैतुल', '/content/drive/My Drive/cropped_data/cropped_dir/649.jpg+नागपुर', '/content/drive/My Drive/cropped_data/cropped_dir/650.jpg+०१', '/content/drive/My Drive/cropped_data/cropped_dir/651.jpg+२०', '/content/drive/My Drive/cropped_data/cropped_dir/652.jpg+१००', '/content/drive/My Drive/cropped_data/cropped_dir/653.jpg+२६१', '/content/drive/My Drive/cropped_data/cropped_dir/654.jpg+लो', '/content/drive/My Drive/cropped_data/cropped_dir/655.jpg+दांतों', '/content/drive/My Drive/cropped_data/cropped_dir/656.jpg+का', '/content/drive/My Drive/cropped_data/cropped_dir/657.jpg+अस्पताल', '/content/drive/My Drive/cropped_data/cropped_dir/658.jpg+तिरुपति', '/content/drive/My Drive/cropped_data/cropped_dir/659.jpg+ट्रेडर्स', '/content/drive/My Drive/cropped_data/cropped_dir/660.jpg+रेता', '/content/drive/My Drive/cropped_data/cropped_dir/661.jpg+गिट्टी', '/content/drive/My Drive/cropped_data/cropped_dir/662.jpg+मुरम', '/content/drive/My Drive/cropped_data/cropped_dir/663.jpg+लोहा', '/content/drive/My Drive/cropped_data/cropped_dir/664.jpg+सीमेंट', '/content/drive/My Drive/cropped_data/cropped_dir/665.jpg+एवं', '/content/drive/My Drive/cropped_data/cropped_dir/666.jpg+ऑल', '/content/drive/My Drive/cropped_data/cropped_dir/667.jpg+बिल्डिंग', '/content/drive/My Drive/cropped_data/cropped_dir/668.jpg+मटेरियल', '/content/drive/My Drive/cropped_data/cropped_dir/669.jpg+सप्लायर', '/content/drive/My Drive/cropped_data/cropped_dir/670.jpg+प्रो', '/content/drive/My Drive/cropped_data/cropped_dir/671.jpg+निकलेश', '/content/drive/My Drive/cropped_data/cropped_dir/672.jpg+तिवारी', '/content/drive/My Drive/cropped_data/cropped_dir/673.jpg+निक्की', '/content/drive/My Drive/cropped_data/cropped_dir/674.jpg+मो', '/content/drive/My Drive/cropped_data/cropped_dir/675.jpg+प्रत्युष', '/content/drive/My Drive/cropped_data/cropped_dir/676.jpg+कुमार', '/content/drive/My Drive/cropped_data/cropped_dir/677.jpg+डिजाईनर', '/content/drive/My Drive/cropped_data/cropped_dir/678.jpg+वाटर', '/content/drive/My Drive/cropped_data/cropped_dir/679.jpg+कूलर', '/content/drive/My Drive/cropped_data/cropped_dir/680.jpg+रूम', '/content/drive/My Drive/cropped_data/cropped_dir/681.jpg+न्यू', '/content/drive/My Drive/cropped_data/cropped_dir/682.jpg+संजय', '/content/drive/My Drive/cropped_data/cropped_dir/683.jpg+भागड़ा', '/content/drive/My Drive/cropped_data/cropped_dir/684.jpg+टोल', '/content/drive/My Drive/cropped_data/cropped_dir/685.jpg+पार्टी', '/content/drive/My Drive/cropped_data/cropped_dir/686.jpg+शादी', '/content/drive/My Drive/cropped_data/cropped_dir/687.jpg+पार्टी', '/content/drive/My Drive/cropped_data/cropped_dir/688.jpg+जन्मदिन', '/content/drive/My Drive/cropped_data/cropped_dir/689.jpg+रिटायरमेंट', '/content/drive/My Drive/cropped_data/cropped_dir/690.jpg+आदि', '/content/drive/My Drive/cropped_data/cropped_dir/691.jpg+सामाजिक', '/content/drive/My Drive/cropped_data/cropped_dir/692.jpg+कार्यो', '/content/drive/My Drive/cropped_data/cropped_dir/693.jpg+के', '/content/drive/My Drive/cropped_data/cropped_dir/694.jpg+लिए', '/content/drive/My Drive/cropped_data/cropped_dir/695.jpg+डीजे', '/content/drive/My Drive/cropped_data/cropped_dir/696.jpg+ढोल', '/content/drive/My Drive/cropped_data/cropped_dir/697.jpg+लाइट', '/content/drive/My Drive/cropped_data/cropped_dir/698.jpg+घोड़ा', '/content/drive/My Drive/cropped_data/cropped_dir/699.jpg+बग्गी', '/content/drive/My Drive/cropped_data/cropped_dir/700.jpg+आतिशबाजी', '/content/drive/My Drive/cropped_data/cropped_dir/701.jpg+हेतु', '/content/drive/My Drive/cropped_data/cropped_dir/702.jpg+संपर्क', '/content/drive/My Drive/cropped_data/cropped_dir/703.jpg+करें', '/content/drive/My Drive/cropped_data/cropped_dir/704.jpg+प्रो', '/content/drive/My Drive/cropped_data/cropped_dir/705.jpg+संजय', '/content/drive/My Drive/cropped_data/cropped_dir/706.jpg+सठेले', '/content/drive/My Drive/cropped_data/cropped_dir/707.jpg+सठेले', '/content/drive/My Drive/cropped_data/cropped_dir/708.jpg+अन्नु', '/content/drive/My Drive/cropped_data/cropped_dir/709.jpg+पता', '/content/drive/My Drive/cropped_data/cropped_dir/710.jpg+तवा', '/content/drive/My Drive/cropped_data/cropped_dir/711.jpg+कॉलोनी', '/content/drive/My Drive/cropped_data/cropped_dir/712.jpg+गगनमगन', '/content/drive/My Drive/cropped_data/cropped_dir/713.jpg+होटल', '/content/drive/My Drive/cropped_data/cropped_dir/714.jpg+के', '/content/drive/My Drive/cropped_data/cropped_dir/715.jpg+सामने', '/content/drive/My Drive/cropped_data/cropped_dir/716.jpg+इटारसीमप्र', '/content/drive/My Drive/cropped_data/cropped_dir/717.jpg+मो', '/content/drive/My Drive/cropped_data/cropped_dir/718.jpg+गरमा', '/content/drive/My Drive/cropped_data/cropped_dir/719.jpg+गरम', '/content/drive/My Drive/cropped_data/cropped_dir/720.jpg+चाय', '/content/drive/My Drive/cropped_data/cropped_dir/721.jpg+कॉफी', '/content/drive/My Drive/cropped_data/cropped_dir/722.jpg+वेस्ट', '/content/drive/My Drive/cropped_data/cropped_dir/723.jpg+सेंट्रल', '/content/drive/My Drive/cropped_data/cropped_dir/724.jpg+रेलवे', '/content/drive/My Drive/cropped_data/cropped_dir/725.jpg+मजदूर', '/content/drive/My Drive/cropped_data/cropped_dir/726.jpg+संघ', '/content/drive/My Drive/cropped_data/cropped_dir/727.jpg+कैरिज', '/content/drive/My Drive/cropped_data/cropped_dir/728.jpg+वैगन', '/content/drive/My Drive/cropped_data/cropped_dir/729.jpg+लोको', '/content/drive/My Drive/cropped_data/cropped_dir/730.jpg+रनिंग', '/content/drive/My Drive/cropped_data/cropped_dir/731.jpg+शाखा', '/content/drive/My Drive/cropped_data/cropped_dir/732.jpg+इटारसी', '/content/drive/My Drive/cropped_data/cropped_dir/733.jpg+यहाँ', '/content/drive/My Drive/cropped_data/cropped_dir/734.jpg+तेज़', '/content/drive/My Drive/cropped_data/cropped_dir/735.jpg+फ्री', '/content/drive/My Drive/cropped_data/cropped_dir/736.jpg+उपलब्द', '/content/drive/My Drive/cropped_data/cropped_dir/737.jpg+है', '/content/drive/My Drive/cropped_data/cropped_dir/738.jpg+नगर', '/content/drive/My Drive/cropped_data/cropped_dir/739.jpg+पालिका', '/content/drive/My Drive/cropped_data/cropped_dir/740.jpg+परिषद', '/content/drive/My Drive/cropped_data/cropped_dir/741.jpg+इटारसी', '/content/drive/My Drive/cropped_data/cropped_dir/742.jpg+आपका', '/content/drive/My Drive/cropped_data/cropped_dir/743.jpg+स्वागत', '/content/drive/My Drive/cropped_data/cropped_dir/744.jpg+करती', '/content/drive/My Drive/cropped_data/cropped_dir/745.jpg+है', '/content/drive/My Drive/cropped_data/cropped_dir/746.jpg+ॐ', '/content/drive/My Drive/cropped_data/cropped_dir/747.jpg+श्वेता', '/content/drive/My Drive/cropped_data/cropped_dir/748.jpg+पान', '/content/drive/My Drive/cropped_data/cropped_dir/749.jpg+भंडार', '/content/drive/My Drive/cropped_data/cropped_dir/750.jpg+प्रो', '/content/drive/My Drive/cropped_data/cropped_dir/751.jpg+दिनेश', '/content/drive/My Drive/cropped_data/cropped_dir/752.jpg+राजपूत', '/content/drive/My Drive/cropped_data/cropped_dir/753.jpg+भावसार', '/content/drive/My Drive/cropped_data/cropped_dir/754.jpg+पानी', '/content/drive/My Drive/cropped_data/cropped_dir/755.jpg+पुरी', '/content/drive/My Drive/cropped_data/cropped_dir/756.jpg+सेंटर', '/content/drive/My Drive/cropped_data/cropped_dir/757.jpg+पानी', '/content/drive/My Drive/cropped_data/cropped_dir/758.jpg+अग्निशमक', '/content/drive/My Drive/cropped_data/cropped_dir/759.jpg+अन्दर', '/content/drive/My Drive/cropped_data/cropped_dir/760.jpg+है', '/content/drive/My Drive/cropped_data/cropped_dir/761.jpg+तरमणि', '/content/drive/My Drive/cropped_data/cropped_dir/762.jpg+अथिति', '/content/drive/My Drive/cropped_data/cropped_dir/763.jpg+गृह', '/content/drive/My Drive/cropped_data/cropped_dir/764.jpg+छात्रावास', '/content/drive/My Drive/cropped_data/cropped_dir/765.jpg+मध्य', '/content/drive/My Drive/cropped_data/cropped_dir/766.jpg+प्रदेश', '/content/drive/My Drive/cropped_data/cropped_dir/767.jpg+शासन', '/content/drive/My Drive/cropped_data/cropped_dir/768.jpg+द्वारा', '/content/drive/My Drive/cropped_data/cropped_dir/769.jpg+संचालित', '/content/drive/My Drive/cropped_data/cropped_dir/770.jpg+साँची', '/content/drive/My Drive/cropped_data/cropped_dir/771.jpg+मिल्क', '/content/drive/My Drive/cropped_data/cropped_dir/772.jpg+पार्लर', '/content/drive/My Drive/cropped_data/cropped_dir/773.jpg+शीतल', '/content/drive/My Drive/cropped_data/cropped_dir/774.jpg+पेय', '/content/drive/My Drive/cropped_data/cropped_dir/775.jpg+जल', '/content/drive/My Drive/cropped_data/cropped_dir/776.jpg+जय', '/content/drive/My Drive/cropped_data/cropped_dir/777.jpg+श्री', '/content/drive/My Drive/cropped_data/cropped_dir/778.jpg+राम', '/content/drive/My Drive/cropped_data/cropped_dir/779.jpg+बजरंग', '/content/drive/My Drive/cropped_data/cropped_dir/780.jpg+चौराह', '/content/drive/My Drive/cropped_data/cropped_dir/781.jpg+३', '/content/drive/My Drive/cropped_data/cropped_dir/782.jpg+बंगला', '/content/drive/My Drive/cropped_data/cropped_dir/783.jpg+विश्व', '/content/drive/My Drive/cropped_data/cropped_dir/784.jpg+हिन्दू', '/content/drive/My Drive/cropped_data/cropped_dir/785.jpg+परिषद', '/content/drive/My Drive/cropped_data/cropped_dir/786.jpg+बजरंग', '/content/drive/My Drive/cropped_data/cropped_dir/787.jpg+दल', '/content/drive/My Drive/cropped_data/cropped_dir/788.jpg+नगर', '/content/drive/My Drive/cropped_data/cropped_dir/789.jpg+इटारसी', '/content/drive/My Drive/cropped_data/cropped_dir/790.jpg+जिला', '/content/drive/My Drive/cropped_data/cropped_dir/791.jpg+नर्मदापुरम', '/content/drive/My Drive/cropped_data/cropped_dir/792.jpg+सेवा', '/content/drive/My Drive/cropped_data/cropped_dir/793.jpg+सुरक्षा', '/content/drive/My Drive/cropped_data/cropped_dir/794.jpg+संस्कार', '/content/drive/My Drive/cropped_data/cropped_dir/795.jpg+विश्व', '/content/drive/My Drive/cropped_data/cropped_dir/796.jpg+हिन्दू', '/content/drive/My Drive/cropped_data/cropped_dir/797.jpg+परिषद', '/content/drive/My Drive/cropped_data/cropped_dir/798.jpg+धर्मो', '/content/drive/My Drive/cropped_data/cropped_dir/799.jpg+रक्षिति', '/content/drive/My Drive/cropped_data/cropped_dir/800.jpg+रक्षितः', '/content/drive/My Drive/cropped_data/cropped_dir/801.jpg+नगर', '/content/drive/My Drive/cropped_data/cropped_dir/802.jpg+पालिका', '/content/drive/My Drive/cropped_data/cropped_dir/803.jpg+परिषद्', '/content/drive/My Drive/cropped_data/cropped_dir/804.jpg+इटारसी', '/content/drive/My Drive/cropped_data/cropped_dir/805.jpg+जन', '/content/drive/My Drive/cropped_data/cropped_dir/806.jpg+सुविधा', '/content/drive/My Drive/cropped_data/cropped_dir/807.jpg+मूत्रयालय', '/content/drive/My Drive/cropped_data/cropped_dir/808.jpg+बुनयादी', '/content/drive/My Drive/cropped_data/cropped_dir/809.jpg+प्रशिक्षण', '/content/drive/My Drive/cropped_data/cropped_dir/810.jpg+केंद्र', '/content/drive/My Drive/cropped_data/cropped_dir/811.jpg+कै', '/content/drive/My Drive/cropped_data/cropped_dir/812.jpg+वै', '/content/drive/My Drive/cropped_data/cropped_dir/813.jpg+इटारसी', '/content/drive/My Drive/cropped_data/cropped_dir/814.jpg+पश्चिम', '/content/drive/My Drive/cropped_data/cropped_dir/815.jpg+मध्य', '/content/drive/My Drive/cropped_data/cropped_dir/816.jpg+रेल', '/content/drive/My Drive/cropped_data/cropped_dir/817.jpg+दुकान', '/content/drive/My Drive/cropped_data/cropped_dir/818.jpg+शराब', '/content/drive/My Drive/cropped_data/cropped_dir/819.jpg+अंग्रेजी', '/content/drive/My Drive/cropped_data/cropped_dir/820.jpg+स्टेशन', '/content/drive/My Drive/cropped_data/cropped_dir/821.jpg+सुंदर', '/content/drive/My Drive/cropped_data/cropped_dir/822.jpg+बनें', '/content/drive/My Drive/cropped_data/cropped_dir/823.jpg+यह', '/content/drive/My Drive/cropped_data/cropped_dir/824.jpg+हम', '/content/drive/My Drive/cropped_data/cropped_dir/825.jpg+सबकी', '/content/drive/My Drive/cropped_data/cropped_dir/826.jpg+जिम्मेदारी', '/content/drive/My Drive/cropped_data/cropped_dir/827.jpg+है', '/content/drive/My Drive/cropped_data/cropped_dir/828.jpg+चोधरी', '/content/drive/My Drive/cropped_data/cropped_dir/829.jpg+फर्नीचर', '/content/drive/My Drive/cropped_data/cropped_dir/830.jpg+मार्ट', '/content/drive/My Drive/cropped_data/cropped_dir/831.jpg+चोखट', '/content/drive/My Drive/cropped_data/cropped_dir/832.jpg+खिड़की', '/content/drive/My Drive/cropped_data/cropped_dir/833.jpg+दरवाजे', '/content/drive/My Drive/cropped_data/cropped_dir/834.jpg+सोफा', '/content/drive/My Drive/cropped_data/cropped_dir/835.jpg+पलंग', '/content/drive/My Drive/cropped_data/cropped_dir/836.jpg+आदि', '/content/drive/My Drive/cropped_data/cropped_dir/837.jpg+के', '/content/drive/My Drive/cropped_data/cropped_dir/838.jpg+निर्माता', '/content/drive/My Drive/cropped_data/cropped_dir/839.jpg+एवं', '/content/drive/My Drive/cropped_data/cropped_dir/840.jpg+विक्रेता', '/content/drive/My Drive/cropped_data/cropped_dir/841.jpg+प्यासा', '/content/drive/My Drive/cropped_data/cropped_dir/842.jpg+नगर', '/content/drive/My Drive/cropped_data/cropped_dir/843.jpg+जमनिरोड़', '/content/drive/My Drive/cropped_data/cropped_dir/844.jpg+पु', '/content/drive/My Drive/cropped_data/cropped_dir/845.jpg+इटारसी', '/content/drive/My Drive/cropped_data/cropped_dir/846.jpg+प्रवेश', '/content/drive/My Drive/cropped_data/cropped_dir/847.jpg+पेय', '/content/drive/My Drive/cropped_data/cropped_dir/848.jpg+जल', '/content/drive/My Drive/cropped_data/cropped_dir/849.jpg+जी', '/content/drive/My Drive/cropped_data/cropped_dir/850.jpg+एल', '/content/drive/My Drive/cropped_data/cropped_dir/851.jpg+फार्मा', '/content/drive/My Drive/cropped_data/cropped_dir/852.jpg+दवाइयों', '/content/drive/My Drive/cropped_data/cropped_dir/853.jpg+के', '/content/drive/My Drive/cropped_data/cropped_dir/854.jpg+थोक', '/content/drive/My Drive/cropped_data/cropped_dir/855.jpg+विक्रेता', '/content/drive/My Drive/cropped_data/cropped_dir/856.jpg+श्री', '/content/drive/My Drive/cropped_data/cropped_dir/857.jpg+ॐ', '/content/drive/My Drive/cropped_data/cropped_dir/858.jpg+चाइनीज', '/content/drive/My Drive/cropped_data/cropped_dir/859.jpg+सेन्टर', '/content/drive/My Drive/cropped_data/cropped_dir/860.jpg+ड्राई', '/content/drive/My Drive/cropped_data/cropped_dir/861.jpg+मंचूरियन', '/content/drive/My Drive/cropped_data/cropped_dir/862.jpg+मंचूरियन', '/content/drive/My Drive/cropped_data/cropped_dir/863.jpg+ग्रेबी', '/content/drive/My Drive/cropped_data/cropped_dir/864.jpg+बरगर', '/content/drive/My Drive/cropped_data/cropped_dir/865.jpg+चाउमीन', '/content/drive/My Drive/cropped_data/cropped_dir/866.jpg+बड़ी', '/content/drive/My Drive/cropped_data/cropped_dir/867.jpg+फ्राई', '/content/drive/My Drive/cropped_data/cropped_dir/868.jpg+पाव', '/content/drive/My Drive/cropped_data/cropped_dir/869.jpg+भाजी', '/content/drive/My Drive/cropped_data/cropped_dir/870.jpg+बड़ी', '/content/drive/My Drive/cropped_data/cropped_dir/871.jpg+फ्राइड', '/content/drive/My Drive/cropped_data/cropped_dir/872.jpg+राइस', '/content/drive/My Drive/cropped_data/cropped_dir/873.jpg+पास्ता', '/content/drive/My Drive/cropped_data/cropped_dir/874.jpg+पश्चिम', '/content/drive/My Drive/cropped_data/cropped_dir/875.jpg+मध्य', '/content/drive/My Drive/cropped_data/cropped_dir/876.jpg+रेलवे', '/content/drive/My Drive/cropped_data/cropped_dir/877.jpg+भोपाल', '/content/drive/My Drive/cropped_data/cropped_dir/878.jpg+मंडल', '/content/drive/My Drive/cropped_data/cropped_dir/879.jpg+बुनयादी', '/content/drive/My Drive/cropped_data/cropped_dir/880.jpg+प्रशिक्षण', '/content/drive/My Drive/cropped_data/cropped_dir/881.jpg+केंद्र', '/content/drive/My Drive/cropped_data/cropped_dir/882.jpg+कैरिज', '/content/drive/My Drive/cropped_data/cropped_dir/883.jpg+एवं', '/content/drive/My Drive/cropped_data/cropped_dir/884.jpg+वैगन', '/content/drive/My Drive/cropped_data/cropped_dir/885.jpg+इटारसी', '/content/drive/My Drive/cropped_data/cropped_dir/886.jpg+मंदिर', '/content/drive/My Drive/cropped_data/cropped_dir/887.jpg+परिसर', '/content/drive/My Drive/cropped_data/cropped_dir/888.jpg+को', '/content/drive/My Drive/cropped_data/cropped_dir/889.jpg+स्वच्छ', '/content/drive/My Drive/cropped_data/cropped_dir/890.jpg+रखे', '/content/drive/My Drive/cropped_data/cropped_dir/891.jpg+एवं', '/content/drive/My Drive/cropped_data/cropped_dir/892.jpg+शांति', '/content/drive/My Drive/cropped_data/cropped_dir/893.jpg+बनाये', '/content/drive/My Drive/cropped_data/cropped_dir/894.jpg+रखे', '/content/drive/My Drive/cropped_data/cropped_dir/895.jpg+सांई', '/content/drive/My Drive/cropped_data/cropped_dir/896.jpg+समिति', '/content/drive/My Drive/cropped_data/cropped_dir/897.jpg+पुइटारसी', '/content/drive/My Drive/cropped_data/cropped_dir/898.jpg+वॅा', '/content/drive/My Drive/cropped_data/cropped_dir/899.jpg+वर्ष', '/content/drive/My Drive/cropped_data/cropped_dir/900.jpg+ऑनलाइन', '/content/drive/My Drive/cropped_data/cropped_dir/901.jpg+फॉर्म', '/content/drive/My Drive/cropped_data/cropped_dir/902.jpg+एडमिट', '/content/drive/My Drive/cropped_data/cropped_dir/903.jpg+कार्ड', '/content/drive/My Drive/cropped_data/cropped_dir/904.jpg+रिजल्ट', '/content/drive/My Drive/cropped_data/cropped_dir/905.jpg+श्री', '/content/drive/My Drive/cropped_data/cropped_dir/906.jpg+सूर्य', '/content/drive/My Drive/cropped_data/cropped_dir/907.jpg+पुत्र', '/content/drive/My Drive/cropped_data/cropped_dir/908.jpg+शनि', '/content/drive/My Drive/cropped_data/cropped_dir/909.jpg+देव', '/content/drive/My Drive/cropped_data/cropped_dir/910.jpg+मंदिर', '/content/drive/My Drive/cropped_data/cropped_dir/911.jpg+श्रीमद्', '/content/drive/My Drive/cropped_data/cropped_dir/912.jpg+भागवत', '/content/drive/My Drive/cropped_data/cropped_dir/913.jpg+कथा', '/content/drive/My Drive/cropped_data/cropped_dir/914.jpg+श्री', '/content/drive/My Drive/cropped_data/cropped_dir/915.jpg+हनुमान', '/content/drive/My Drive/cropped_data/cropped_dir/916.jpg+धाम', '/content/drive/My Drive/cropped_data/cropped_dir/917.jpg+मंदिर', '/content/drive/My Drive/cropped_data/cropped_dir/918.jpg+इटारसी', '/content/drive/My Drive/cropped_data/cropped_dir/919.jpg+कार्यालय', '/content/drive/My Drive/cropped_data/cropped_dir/920.jpg+जय', '/content/drive/My Drive/cropped_data/cropped_dir/921.jpg+श्री', '/content/drive/My Drive/cropped_data/cropped_dir/922.jpg+राम', '/content/drive/My Drive/cropped_data/cropped_dir/923.jpg+जय', '/content/drive/My Drive/cropped_data/cropped_dir/924.jpg+श्री', '/content/drive/My Drive/cropped_data/cropped_dir/925.jpg+राम', '/content/drive/My Drive/cropped_data/cropped_dir/926.jpg+पीने', '/content/drive/My Drive/cropped_data/cropped_dir/927.jpg+का', '/content/drive/My Drive/cropped_data/cropped_dir/928.jpg+पानी', '/content/drive/My Drive/cropped_data/cropped_dir/929.jpg+पेप्सी', '/content/drive/My Drive/cropped_data/cropped_dir/930.jpg+रेडियम', '/content/drive/My Drive/cropped_data/cropped_dir/931.jpg+आर्ट', '/content/drive/My Drive/cropped_data/cropped_dir/932.jpg+प्रो', '/content/drive/My Drive/cropped_data/cropped_dir/933.jpg+राकेश', '/content/drive/My Drive/cropped_data/cropped_dir/934.jpg+मालवीया', '/content/drive/My Drive/cropped_data/cropped_dir/935.jpg+श्री', '/content/drive/My Drive/cropped_data/cropped_dir/936.jpg+गणेशाय', '/content/drive/My Drive/cropped_data/cropped_dir/937.jpg+नमः', '/content/drive/My Drive/cropped_data/cropped_dir/938.jpg+सरयु', '/content/drive/My Drive/cropped_data/cropped_dir/939.jpg+छात्रावास', '/content/drive/My Drive/cropped_data/cropped_dir/940.jpg+शरावती', '/content/drive/My Drive/cropped_data/cropped_dir/941.jpg+केंद्रीय', '/content/drive/My Drive/cropped_data/cropped_dir/942.jpg+पुस्तकालय', '/content/drive/My Drive/cropped_data/cropped_dir/943.jpg+छात्रावास', '/content/drive/My Drive/cropped_data/cropped_dir/944.jpg+गति', '/content/drive/My Drive/cropped_data/cropped_dir/945.jpg+सीमा', '/content/drive/My Drive/cropped_data/cropped_dir/946.jpg+जनशताब्दी', '/content/drive/My Drive/cropped_data/cropped_dir/947.jpg+एक्सप्रेस', '/content/drive/My Drive/cropped_data/cropped_dir/948.jpg+हबीबगंज', '/content/drive/My Drive/cropped_data/cropped_dir/949.jpg+जबलपुर', '/content/drive/My Drive/cropped_data/cropped_dir/950.jpg+कार्यालय', '/content/drive/My Drive/cropped_data/cropped_dir/951.jpg+वरिष्ठ', '/content/drive/My Drive/cropped_data/cropped_dir/952.jpg+अनुभाग', '/content/drive/My Drive/cropped_data/cropped_dir/953.jpg+अभियंता', '/content/drive/My Drive/cropped_data/cropped_dir/954.jpg+रेल', '/content/drive/My Drive/cropped_data/cropped_dir/955.jpg+पथ', '/content/drive/My Drive/cropped_data/cropped_dir/956.jpg+अुन', '/content/drive/My Drive/cropped_data/cropped_dir/957.jpg+प', '/content/drive/My Drive/cropped_data/cropped_dir/958.jpg+म', '/content/drive/My Drive/cropped_data/cropped_dir/959.jpg+रेल', '/content/drive/My Drive/cropped_data/cropped_dir/960.jpg+इटारसी', '/content/drive/My Drive/cropped_data/cropped_dir/961.jpg+अंथोनी', '/content/drive/My Drive/cropped_data/cropped_dir/962.jpg+बालाजी', '/content/drive/My Drive/cropped_data/cropped_dir/963.jpg+नायक', '/content/drive/My Drive/cropped_data/cropped_dir/964.jpg+रामवथ', '/content/drive/My Drive/cropped_data/cropped_dir/965.jpg+धनलक्ष्मी', '/content/drive/My Drive/cropped_data/cropped_dir/966.jpg+एम', '/content/drive/My Drive/cropped_data/cropped_dir/967.jpg+संपत', '/content/drive/My Drive/cropped_data/cropped_dir/968.jpg+एम', '/content/drive/My Drive/cropped_data/cropped_dir/969.jpg+श्रीदेवी', '/content/drive/My Drive/cropped_data/cropped_dir/970.jpg+बी', '/content/drive/My Drive/cropped_data/cropped_dir/971.jpg+सी', '/content/drive/My Drive/cropped_data/cropped_dir/972.jpg+श्याम', '/content/drive/My Drive/cropped_data/cropped_dir/973.jpg+कुमार', '/content/drive/My Drive/cropped_data/cropped_dir/974.jpg+तकनीकी', '/content/drive/My Drive/cropped_data/cropped_dir/975.jpg+कर्मचारी', '/content/drive/My Drive/cropped_data/cropped_dir/976.jpg+रेल', '/content/drive/My Drive/cropped_data/cropped_dir/977.jpg+डाक', '/content/drive/My Drive/cropped_data/cropped_dir/978.jpg+सेवा', '/content/drive/My Drive/cropped_data/cropped_dir/979.jpg+इटारसी', '/content/drive/My Drive/cropped_data/cropped_dir/980.jpg+भारतीय', '/content/drive/My Drive/cropped_data/cropped_dir/981.jpg+डाक', '/content/drive/My Drive/cropped_data/cropped_dir/982.jpg+उद्यान', '/content/drive/My Drive/cropped_data/cropped_dir/983.jpg+खुलने', '/content/drive/My Drive/cropped_data/cropped_dir/984.jpg+व', '/content/drive/My Drive/cropped_data/cropped_dir/985.jpg+बंद', '/content/drive/My Drive/cropped_data/cropped_dir/986.jpg+होने', '/content/drive/My Drive/cropped_data/cropped_dir/987.jpg+का', '/content/drive/My Drive/cropped_data/cropped_dir/988.jpg+समय', '/content/drive/My Drive/cropped_data/cropped_dir/989.jpg+सुबह', '/content/drive/My Drive/cropped_data/cropped_dir/990.jpg+०६०', '/content/drive/My Drive/cropped_data/cropped_dir/991.jpg+से', '/content/drive/My Drive/cropped_data/cropped_dir/992.jpg+०७०', '/content/drive/My Drive/cropped_data/cropped_dir/993.jpg+बजे', '/content/drive/My Drive/cropped_data/cropped_dir/994.jpg+शाम', '/content/drive/My Drive/cropped_data/cropped_dir/995.jpg+१८००', '/content/drive/My Drive/cropped_data/cropped_dir/996.jpg+से', '/content/drive/My Drive/cropped_data/cropped_dir/997.jpg+१९००', '/content/drive/My Drive/cropped_data/cropped_dir/998.jpg+बजे', '/content/drive/My Drive/cropped_data/cropped_dir/999.jpg+तक', '/content/drive/My Drive/cropped_data/cropped_dir/1000.jpg+सावधान', '/content/drive/My Drive/cropped_data/cropped_dir/1001.jpg+२५००', '/content/drive/My Drive/cropped_data/cropped_dir/1002.jpg+यहाँ', '/content/drive/My Drive/cropped_data/cropped_dir/1003.jpg+टप', '/content/drive/My Drive/cropped_data/cropped_dir/1004.jpg+से', '/content/drive/My Drive/cropped_data/cropped_dir/1005.jpg+देना', '/content/drive/My Drive/cropped_data/cropped_dir/1006.jpg+हे', '/content/drive/My Drive/cropped_data/cropped_dir/1007.jpg+द्वितीय', '/content/drive/My Drive/cropped_data/cropped_dir/1008.jpg+श्रेणी', '/content/drive/My Drive/cropped_data/cropped_dir/1009.jpg+आपातकालीन', '/content/drive/My Drive/cropped_data/cropped_dir/1010.jpg+खिड़की', '/content/drive/My Drive/cropped_data/cropped_dir/1011.jpg+शिव', '/content/drive/My Drive/cropped_data/cropped_dir/1012.jpg+मन्दिर', '/content/drive/My Drive/cropped_data/cropped_dir/1013.jpg+लाभ', '/content/drive/My Drive/cropped_data/cropped_dir/1014.jpg+मप्र', '/content/drive/My Drive/cropped_data/cropped_dir/1015.jpg+शासन', '/content/drive/My Drive/cropped_data/cropped_dir/1016.jpg+द्वारा', '/content/drive/My Drive/cropped_data/cropped_dir/1017.jpg+मान्यता', '/content/drive/My Drive/cropped_data/cropped_dir/1018.jpg+प्राप्त', '/content/drive/My Drive/cropped_data/cropped_dir/1019.jpg+मो', '/content/drive/My Drive/cropped_data/cropped_dir/1020.jpg+रानी', '/content/drive/My Drive/cropped_data/cropped_dir/1021.jpg+अवंती', '/content/drive/My Drive/cropped_data/cropped_dir/1022.jpg+विद्या', '/content/drive/My Drive/cropped_data/cropped_dir/1023.jpg+निकेतन', '/content/drive/My Drive/cropped_data/cropped_dir/1024.jpg+हायर', '/content/drive/My Drive/cropped_data/cropped_dir/1025.jpg+सेकेंडरी', '/content/drive/My Drive/cropped_data/cropped_dir/1026.jpg+स्कूल', '/content/drive/My Drive/cropped_data/cropped_dir/1027.jpg+कक्षा', '/content/drive/My Drive/cropped_data/cropped_dir/1028.jpg+नर्सरी', '/content/drive/My Drive/cropped_data/cropped_dir/1029.jpg+से', '/content/drive/My Drive/cropped_data/cropped_dir/1030.jpg+१२वीं', '/content/drive/My Drive/cropped_data/cropped_dir/1031.jpg+वाणिज्य', '/content/drive/My Drive/cropped_data/cropped_dir/1032.jpg+एवं', '/content/drive/My Drive/cropped_data/cropped_dir/1033.jpg+विज्ञान', '/content/drive/My Drive/cropped_data/cropped_dir/1034.jpg+हिंदी', '/content/drive/My Drive/cropped_data/cropped_dir/1035.jpg+एवं', '/content/drive/My Drive/cropped_data/cropped_dir/1036.jpg+अंग्रेजी', '/content/drive/My Drive/cropped_data/cropped_dir/1037.jpg+माध्यम', '/content/drive/My Drive/cropped_data/cropped_dir/1038.jpg+रामपुर', '/content/drive/My Drive/cropped_data/cropped_dir/1039.jpg+गुर्रा', '/content/drive/My Drive/cropped_data/cropped_dir/1040.jpg+स्वच्छ', '/content/drive/My Drive/cropped_data/cropped_dir/1041.jpg+सर्वेक्षण', '/content/drive/My Drive/cropped_data/cropped_dir/1042.jpg+हर', '/content/drive/My Drive/cropped_data/cropped_dir/1043.jpg+दिन', '/content/drive/My Drive/cropped_data/cropped_dir/1044.jpg+दो', '/content/drive/My Drive/cropped_data/cropped_dir/1045.jpg+डस्टबिन', '/content/drive/My Drive/cropped_data/cropped_dir/1046.jpg+साँईराम', '/content/drive/My Drive/cropped_data/cropped_dir/1047.jpg+प्याऊ', '/content/drive/My Drive/cropped_data/cropped_dir/1048.jpg+कंप्यूटर', '/content/drive/My Drive/cropped_data/cropped_dir/1049.jpg+विज्ञान', '/content/drive/My Drive/cropped_data/cropped_dir/1050.jpg+एवं', '/content/drive/My Drive/cropped_data/cropped_dir/1051.jpg+अभियांत्रिकी', '/content/drive/My Drive/cropped_data/cropped_dir/1052.jpg+विभाग', '/content/drive/My Drive/cropped_data/cropped_dir/1053.jpg+सीनियर', '/content/drive/My Drive/cropped_data/cropped_dir/1054.jpg+सेक्शन', '/content/drive/My Drive/cropped_data/cropped_dir/1055.jpg+इंजीनियर', '/content/drive/My Drive/cropped_data/cropped_dir/1056.jpg+कै', '/content/drive/My Drive/cropped_data/cropped_dir/1057.jpg+वै', '/content/drive/My Drive/cropped_data/cropped_dir/1058.jpg+रेक', '/content/drive/My Drive/cropped_data/cropped_dir/1059.jpg+अनुरक्षण', '/content/drive/My Drive/cropped_data/cropped_dir/1060.jpg+इटारसी', '/content/drive/My Drive/cropped_data/cropped_dir/1061.jpg+कार्यालय', '/content/drive/My Drive/cropped_data/cropped_dir/1062.jpg+सीनि', '/content/drive/My Drive/cropped_data/cropped_dir/1063.jpg+सेक्शन', '/content/drive/My Drive/cropped_data/cropped_dir/1064.jpg+इंजी', '/content/drive/My Drive/cropped_data/cropped_dir/1065.jpg+कै', '/content/drive/My Drive/cropped_data/cropped_dir/1066.jpg+वै', '/content/drive/My Drive/cropped_data/cropped_dir/1067.jpg+पैसे', '/content/drive/My Drive/cropped_data/cropped_dir/1068.jpg+स्टेशन', '/content/drive/My Drive/cropped_data/cropped_dir/1069.jpg+पश्चिम', '/content/drive/My Drive/cropped_data/cropped_dir/1070.jpg+मध्य', '/content/drive/My Drive/cropped_data/cropped_dir/1071.jpg+रेल', '/content/drive/My Drive/cropped_data/cropped_dir/1072.jpg+इटारसी', '/content/drive/My Drive/cropped_data/cropped_dir/1073.jpg+विकास', '/content/drive/My Drive/cropped_data/cropped_dir/1074.jpg+हार्डवेयर', '/content/drive/My Drive/cropped_data/cropped_dir/1075.jpg+इलेक्ट्रिकल्स', '/content/drive/My Drive/cropped_data/cropped_dir/1076.jpg+अल्ट्राटेक', '/content/drive/My Drive/cropped_data/cropped_dir/1077.jpg+इंजीनियर', '/content/drive/My Drive/cropped_data/cropped_dir/1078.jpg+की', '/content/drive/My Drive/cropped_data/cropped_dir/1079.jpg+पसांद', '/content/drive/My Drive/cropped_data/cropped_dir/1080.jpg+स्टेट', '/content/drive/My Drive/cropped_data/cropped_dir/1081.jpg+बैंक', '/content/drive/My Drive/cropped_data/cropped_dir/1082.jpg+ए', '/content/drive/My Drive/cropped_data/cropped_dir/1083.jpg+टी', '/content/drive/My Drive/cropped_data/cropped_dir/1084.jpg+एम', '/content/drive/My Drive/cropped_data/cropped_dir/1085.jpg+अलुम्नि', '/content/drive/My Drive/cropped_data/cropped_dir/1086.jpg+एवन्यू', '/content/drive/My Drive/cropped_data/cropped_dir/1087.jpg+पावनी', '/content/drive/My Drive/cropped_data/cropped_dir/1088.jpg+फोटो', '/content/drive/My Drive/cropped_data/cropped_dir/1089.jpg+कॉपी', '/content/drive/My Drive/cropped_data/cropped_dir/1090.jpg+कलर', '/content/drive/My Drive/cropped_data/cropped_dir/1091.jpg+एवं', '/content/drive/My Drive/cropped_data/cropped_dir/1092.jpg+ब्लेक', '/content/drive/My Drive/cropped_data/cropped_dir/1093.jpg+व्हाइट', '/content/drive/My Drive/cropped_data/cropped_dir/1094.jpg+एक', '/content/drive/My Drive/cropped_data/cropped_dir/1095.jpg+कदम', '/content/drive/My Drive/cropped_data/cropped_dir/1096.jpg+स्वच्छता', '/content/drive/My Drive/cropped_data/cropped_dir/1097.jpg+की', '/content/drive/My Drive/cropped_data/cropped_dir/1098.jpg+ओर', '/content/drive/My Drive/cropped_data/cropped_dir/1099.jpg+इटारसी', '/content/drive/My Drive/cropped_data/cropped_dir/1100.jpg+अनवर', '/content/drive/My Drive/cropped_data/cropped_dir/1101.jpg+भाई', '/content/drive/My Drive/cropped_data/cropped_dir/1102.jpg+मिनी', '/content/drive/My Drive/cropped_data/cropped_dir/1103.jpg+ट्रक', '/content/drive/My Drive/cropped_data/cropped_dir/1104.jpg+वृक्ष', '/content/drive/My Drive/cropped_data/cropped_dir/1105.jpg+धरा', '/content/drive/My Drive/cropped_data/cropped_dir/1106.jpg+के', '/content/drive/My Drive/cropped_data/cropped_dir/1107.jpg+भूषण', '/content/drive/My Drive/cropped_data/cropped_dir/1108.jpg+हें', '/content/drive/My Drive/cropped_data/cropped_dir/1109.jpg+करते', '/content/drive/My Drive/cropped_data/cropped_dir/1110.jpg+दूर', '/content/drive/My Drive/cropped_data/cropped_dir/1111.jpg+प्रदुषण', '/content/drive/My Drive/cropped_data/cropped_dir/1112.jpg+हें', '/content/drive/My Drive/cropped_data/cropped_dir/1113.jpg+पश्चिम', '/content/drive/My Drive/cropped_data/cropped_dir/1114.jpg+मध्य', '/content/drive/My Drive/cropped_data/cropped_dir/1115.jpg+रेल', '/content/drive/My Drive/cropped_data/cropped_dir/1116.jpg+लोको', '/content/drive/My Drive/cropped_data/cropped_dir/1117.jpg+पायलट', '/content/drive/My Drive/cropped_data/cropped_dir/1118.jpg+एवं', '/content/drive/My Drive/cropped_data/cropped_dir/1119.jpg+परिचालक', '/content/drive/My Drive/cropped_data/cropped_dir/1120.jpg+लॉबी', '/content/drive/My Drive/cropped_data/cropped_dir/1121.jpg+इटारसी', '/content/drive/My Drive/cropped_data/cropped_dir/1122.jpg+भारतीय', '/content/drive/My Drive/cropped_data/cropped_dir/1123.jpg+रेल', '/content/drive/My Drive/cropped_data/cropped_dir/1124.jpg+शस्त्रागार', '/content/drive/My Drive/cropped_data/cropped_dir/1125.jpg+रे', '/content/drive/My Drive/cropped_data/cropped_dir/1126.jpg+सु', '/content/drive/My Drive/cropped_data/cropped_dir/1127.jpg+ब', '/content/drive/My Drive/cropped_data/cropped_dir/1128.jpg+इटारसी', '/content/drive/My Drive/cropped_data/cropped_dir/1129.jpg+स्टे', '/content/drive/My Drive/cropped_data/cropped_dir/1130.jpg+भवानी', '/content/drive/My Drive/cropped_data/cropped_dir/1131.jpg+क्लब', '/content/drive/My Drive/cropped_data/cropped_dir/1132.jpg+दुर्गा', '/content/drive/My Drive/cropped_data/cropped_dir/1133.jpg+महोत्सव', '/content/drive/My Drive/cropped_data/cropped_dir/1134.jpg+आपका', '/content/drive/My Drive/cropped_data/cropped_dir/1135.jpg+हार्दिक', '/content/drive/My Drive/cropped_data/cropped_dir/1136.jpg+अभिनंदन', '/content/drive/My Drive/cropped_data/cropped_dir/1137.jpg+करता', '/content/drive/My Drive/cropped_data/cropped_dir/1138.jpg+है', '/content/drive/My Drive/cropped_data/cropped_dir/1139.jpg+२९वां', '/content/drive/My Drive/cropped_data/cropped_dir/1140.jpg+वर्ष', '/content/drive/My Drive/cropped_data/cropped_dir/1141.jpg+स्टेशन', '/content/drive/My Drive/cropped_data/cropped_dir/1142.jpg+प्रबन्धक', '/content/drive/My Drive/cropped_data/cropped_dir/1143.jpg+अन्नपूर्णा', '/content/drive/My Drive/cropped_data/cropped_dir/1144.jpg+परिसर', '/content/drive/My Drive/cropped_data/cropped_dir/1145.jpg+न', '/content/drive/My Drive/cropped_data/cropped_dir/1146.jpg+पा', '/content/drive/My Drive/cropped_data/cropped_dir/1147.jpg+प', '/content/drive/My Drive/cropped_data/cropped_dir/1148.jpg+इटारसी', '/content/drive/My Drive/cropped_data/cropped_dir/1149.jpg+बाहरी', '/content/drive/My Drive/cropped_data/cropped_dir/1150.jpg+व्यक्तियों', '/content/drive/My Drive/cropped_data/cropped_dir/1151.jpg+का', '/content/drive/My Drive/cropped_data/cropped_dir/1152.jpg+प्रवेश', '/content/drive/My Drive/cropped_data/cropped_dir/1153.jpg+निषेध', '/content/drive/My Drive/cropped_data/cropped_dir/1154.jpg+यह', '/content/drive/My Drive/cropped_data/cropped_dir/1155.jpg+आम', '/content/drive/My Drive/cropped_data/cropped_dir/1156.jpg+रास्ता', '/content/drive/My Drive/cropped_data/cropped_dir/1157.jpg+नहीं', '/content/drive/My Drive/cropped_data/cropped_dir/1158.jpg+हैं', '/content/drive/My Drive/cropped_data/cropped_dir/1159.jpg+कार्यालय', '/content/drive/My Drive/cropped_data/cropped_dir/1160.jpg+रेल', '/content/drive/My Drive/cropped_data/cropped_dir/1161.jpg+सुरक्षा', '/content/drive/My Drive/cropped_data/cropped_dir/1162.jpg+बल', '/content/drive/My Drive/cropped_data/cropped_dir/1163.jpg+विशेष', '/content/drive/My Drive/cropped_data/cropped_dir/1164.jpg+खुपिया', '/content/drive/My Drive/cropped_data/cropped_dir/1165.jpg+शाखा', '/content/drive/My Drive/cropped_data/cropped_dir/1166.jpg+इटारसी', '/content/drive/My Drive/cropped_data/cropped_dir/1167.jpg+डीजल', '/content/drive/My Drive/cropped_data/cropped_dir/1168.jpg+लोको', '/content/drive/My Drive/cropped_data/cropped_dir/1169.jpg+शेड', '/content/drive/My Drive/cropped_data/cropped_dir/1170.jpg+इटारसी', '/content/drive/My Drive/cropped_data/cropped_dir/1171.jpg+ऑन', '/content/drive/My Drive/cropped_data/cropped_dir/1172.jpg+ड्यूटी', '/content/drive/My Drive/cropped_data/cropped_dir/1173.jpg+स्टॉफ', '/content/drive/My Drive/cropped_data/cropped_dir/1174.jpg+रूम', '/content/drive/My Drive/cropped_data/cropped_dir/1175.jpg+पश्चिम', '/content/drive/My Drive/cropped_data/cropped_dir/1176.jpg+मध्य', '/content/drive/My Drive/cropped_data/cropped_dir/1177.jpg+रेल', '/content/drive/My Drive/cropped_data/cropped_dir/1178.jpg+बुनयादी', '/content/drive/My Drive/cropped_data/cropped_dir/1179.jpg+प्रशिक्षण', '/content/drive/My Drive/cropped_data/cropped_dir/1180.jpg+केंद्र', '/content/drive/My Drive/cropped_data/cropped_dir/1181.jpg+कै', '/content/drive/My Drive/cropped_data/cropped_dir/1182.jpg+वै', '/content/drive/My Drive/cropped_data/cropped_dir/1183.jpg+इटारसी', '/content/drive/My Drive/cropped_data/cropped_dir/1184.jpg+भोपाल', '/content/drive/My Drive/cropped_data/cropped_dir/1185.jpg+मण्डल', '/content/drive/My Drive/cropped_data/cropped_dir/1186.jpg+श्रीराम', '/content/drive/My Drive/cropped_data/cropped_dir/1187.jpg+टी', '/content/drive/My Drive/cropped_data/cropped_dir/1188.jpg+स्टाल', '/content/drive/My Drive/cropped_data/cropped_dir/1189.jpg+धर्मेंद्', '/content/drive/My Drive/cropped_data/cropped_dir/1190.jpg+मेहरा', '/content/drive/My Drive/cropped_data/cropped_dir/1191.jpg+मो', '/content/drive/My Drive/cropped_data/cropped_dir/1192.jpg+तवा', '/content/drive/My Drive/cropped_data/cropped_dir/1193.jpg+गेट', '/content/drive/My Drive/cropped_data/cropped_dir/1194.jpg+के', '/content/drive/My Drive/cropped_data/cropped_dir/1195.jpg+सामने', '/content/drive/My Drive/cropped_data/cropped_dir/1196.jpg+इटारसी', '/content/drive/My Drive/cropped_data/cropped_dir/1197.jpg+मुस्कान', '/content/drive/My Drive/cropped_data/cropped_dir/1198.jpg+टेलर्स', '/content/drive/My Drive/cropped_data/cropped_dir/1199.jpg+दादा', '/content/drive/My Drive/cropped_data/cropped_dir/1200.jpg+जी', '/content/drive/My Drive/cropped_data/cropped_dir/1201.jpg+अनाज', '/content/drive/My Drive/cropped_data/cropped_dir/1202.jpg+किराना', '/content/drive/My Drive/cropped_data/cropped_dir/1203.jpg+एवं', '/content/drive/My Drive/cropped_data/cropped_dir/1204.jpg+जनरल', '/content/drive/My Drive/cropped_data/cropped_dir/1205.jpg+स्टोर्स', '/content/drive/My Drive/cropped_data/cropped_dir/1206.jpg+प्राची', '/content/drive/My Drive/cropped_data/cropped_dir/1207.jpg+लेडीस', '/content/drive/My Drive/cropped_data/cropped_dir/1208.jpg+टेलर्स', '/content/drive/My Drive/cropped_data/cropped_dir/1209.jpg+ई', '/content/drive/My Drive/cropped_data/cropped_dir/1210.jpg+ई', '/content/drive/My Drive/cropped_data/cropped_dir/1211.jpg+रजिस्ट्री', '/content/drive/My Drive/cropped_data/cropped_dir/1212.jpg+एवं', '/content/drive/My Drive/cropped_data/cropped_dir/1213.jpg+स्टाम्प', '/content/drive/My Drive/cropped_data/cropped_dir/1214.jpg+राजेंद्र', '/content/drive/My Drive/cropped_data/cropped_dir/1215.jpg+कुमार', '/content/drive/My Drive/cropped_data/cropped_dir/1216.jpg+मालवीय', '/content/drive/My Drive/cropped_data/cropped_dir/1217.jpg+मो', '/content/drive/My Drive/cropped_data/cropped_dir/1218.jpg+वेस्ट', '/content/drive/My Drive/cropped_data/cropped_dir/1219.jpg+सेंट्रल', '/content/drive/My Drive/cropped_data/cropped_dir/1220.jpg+रेलवे', '/content/drive/My Drive/cropped_data/cropped_dir/1221.jpg+एम्प्लाईज', '/content/drive/My Drive/cropped_data/cropped_dir/1222.jpg+यूनियन', '/content/drive/My Drive/cropped_data/cropped_dir/1223.jpg+शाखा', '/content/drive/My Drive/cropped_data/cropped_dir/1224.jpg+क्र', '/content/drive/My Drive/cropped_data/cropped_dir/1225.jpg+इटारसी', '/content/drive/My Drive/cropped_data/cropped_dir/1226.jpg+दुर्ग', '/content/drive/My Drive/cropped_data/cropped_dir/1227.jpg+भोपाल', '/content/drive/My Drive/cropped_data/cropped_dir/1228.jpg+सी', '/content/drive/My Drive/cropped_data/cropped_dir/1229.jpg+एच', '/content/drive/My Drive/cropped_data/cropped_dir/1230.jpg+ए', '/content/drive/My Drive/cropped_data/cropped_dir/1231.jpg+इलाहबाद', '/content/drive/My Drive/cropped_data/cropped_dir/1232.jpg+बैंक', '/content/drive/My Drive/cropped_data/cropped_dir/1233.jpg+भारत', '/content/drive/My Drive/cropped_data/cropped_dir/1234.jpg+सरकार', '/content/drive/My Drive/cropped_data/cropped_dir/1235.jpg+का', '/content/drive/My Drive/cropped_data/cropped_dir/1236.jpg+उपक्रम', '/content/drive/My Drive/cropped_data/cropped_dir/1237.jpg+इटारसी', '/content/drive/My Drive/cropped_data/cropped_dir/1238.jpg+शाखा', '/content/drive/My Drive/cropped_data/cropped_dir/1239.jpg+हम', '/content/drive/My Drive/cropped_data/cropped_dir/1240.jpg+सभी', '/content/drive/My Drive/cropped_data/cropped_dir/1241.jpg+का', '/content/drive/My Drive/cropped_data/cropped_dir/1242.jpg+यही', '/content/drive/My Drive/cropped_data/cropped_dir/1243.jpg+है', '/content/drive/My Drive/cropped_data/cropped_dir/1244.jpg+सपना', '/content/drive/My Drive/cropped_data/cropped_dir/1245.jpg+स्वच्छ', '/content/drive/My Drive/cropped_data/cropped_dir/1246.jpg+स्वच्छ', '/content/drive/My Drive/cropped_data/cropped_dir/1247.jpg+देश', '/content/drive/My Drive/cropped_data/cropped_dir/1248.jpg+हो', '/content/drive/My Drive/cropped_data/cropped_dir/1249.jpg+अपना', '/content/drive/My Drive/cropped_data/cropped_dir/1250.jpg+गुरु', '/content/drive/My Drive/cropped_data/cropped_dir/1251.jpg+कृपा', '/content/drive/My Drive/cropped_data/cropped_dir/1252.jpg+शीतल', '/content/drive/My Drive/cropped_data/cropped_dir/1253.jpg+जल', '/content/drive/My Drive/cropped_data/cropped_dir/1254.jpg+धन्यवाद्', '/content/drive/My Drive/cropped_data/cropped_dir/1255.jpg+जय', '/content/drive/My Drive/cropped_data/cropped_dir/1256.jpg+श्री', '/content/drive/My Drive/cropped_data/cropped_dir/1257.jpg+राम', '/content/drive/My Drive/cropped_data/cropped_dir/1258.jpg+बजरंग', '/content/drive/My Drive/cropped_data/cropped_dir/1259.jpg+चौराहा', '/content/drive/My Drive/cropped_data/cropped_dir/1260.jpg+बंगला', '/content/drive/My Drive/cropped_data/cropped_dir/1261.jpg+कार्यालय', '/content/drive/My Drive/cropped_data/cropped_dir/1262.jpg+अनुभाग', '/content/drive/My Drive/cropped_data/cropped_dir/1263.jpg+अभियंता', '/content/drive/My Drive/cropped_data/cropped_dir/1264.jpg+कार्य', '/content/drive/My Drive/cropped_data/cropped_dir/1265.jpg+भिन्न', '/content/drive/My Drive/cropped_data/cropped_dir/1266.jpg+क्षमतावालों', '/content/drive/My Drive/cropped_data/cropped_dir/1267.jpg+के', '/content/drive/My Drive/cropped_data/cropped_dir/1268.jpg+लिये', '/content/drive/My Drive/cropped_data/cropped_dir/1269.jpg+प्रथम', '/content/drive/My Drive/cropped_data/cropped_dir/1270.jpg+श्रेणी', '/content/drive/My Drive/cropped_data/cropped_dir/1271.jpg+वताकुलित', '/content/drive/My Drive/cropped_data/cropped_dir/1272.jpg+ए', '/content/drive/My Drive/cropped_data/cropped_dir/1273.jpg+सावधान', '/content/drive/My Drive/cropped_data/cropped_dir/1274.jpg+शहरी', '/content/drive/My Drive/cropped_data/cropped_dir/1275.jpg+छेत्र', '/content/drive/My Drive/cropped_data/cropped_dir/1276.jpg+कृपया', '/content/drive/My Drive/cropped_data/cropped_dir/1277.jpg+धीरे', '/content/drive/My Drive/cropped_data/cropped_dir/1278.jpg+चलियें', '/content/drive/My Drive/cropped_data/cropped_dir/1279.jpg+इटारसी', '/content/drive/My Drive/cropped_data/cropped_dir/1280.jpg+नगर', '/content/drive/My Drive/cropped_data/cropped_dir/1281.jpg+पालिका', '/content/drive/My Drive/cropped_data/cropped_dir/1282.jpg+बेटी', '/content/drive/My Drive/cropped_data/cropped_dir/1283.jpg+बेटी', '/content/drive/My Drive/cropped_data/cropped_dir/1284.jpg+पढ़ाओ', '/content/drive/My Drive/cropped_data/cropped_dir/1285.jpg+बचाओ', '/content/drive/My Drive/cropped_data/cropped_dir/1286.jpg+चोधरी', '/content/drive/My Drive/cropped_data/cropped_dir/1287.jpg+फर्नीचर', '/content/drive/My Drive/cropped_data/cropped_dir/1288.jpg+मार्ट', '/content/drive/My Drive/cropped_data/cropped_dir/1289.jpg+प्रो', '/content/drive/My Drive/cropped_data/cropped_dir/1290.jpg+डीडी', '/content/drive/My Drive/cropped_data/cropped_dir/1291.jpg+चोधरी', '/content/drive/My Drive/cropped_data/cropped_dir/1292.jpg+ईशान', '/content/drive/My Drive/cropped_data/cropped_dir/1293.jpg+टाउन', '/content/drive/My Drive/cropped_data/cropped_dir/1294.jpg+बंगले', '/content/drive/My Drive/cropped_data/cropped_dir/1295.jpg+लाख', '/content/drive/My Drive/cropped_data/cropped_dir/1296.jpg+से', '/content/drive/My Drive/cropped_data/cropped_dir/1297.jpg+प्रारंभ', '/content/drive/My Drive/cropped_data/cropped_dir/1298.jpg+मकान', '/content/drive/My Drive/cropped_data/cropped_dir/1299.jpg+किराये', '/content/drive/My Drive/cropped_data/cropped_dir/1300.jpg+से', '/content/drive/My Drive/cropped_data/cropped_dir/1301.jpg+देना', '/content/drive/My Drive/cropped_data/cropped_dir/1302.jpg+हैं', '/content/drive/My Drive/cropped_data/cropped_dir/1303.jpg+संपर्क', '/content/drive/My Drive/cropped_data/cropped_dir/1304.jpg+करें', '/content/drive/My Drive/cropped_data/cropped_dir/1305.jpg+चेन्नै', '/content/drive/My Drive/cropped_data/cropped_dir/1306.jpg+कडक्र्करै', '/content/drive/My Drive/cropped_data/cropped_dir/1307.jpg+तहसील', '/content/drive/My Drive/cropped_data/cropped_dir/1308.jpg+कार्यालय', '/content/drive/My Drive/cropped_data/cropped_dir/1309.jpg+पहुँच', '/content/drive/My Drive/cropped_data/cropped_dir/1310.jpg+मार्ग', '/content/drive/My Drive/cropped_data/cropped_dir/1311.jpg+यात्री', '/content/drive/My Drive/cropped_data/cropped_dir/1312.jpg+प्रतीक्षालय', '/content/drive/My Drive/cropped_data/cropped_dir/1313.jpg+आर्यभटटा', '/content/drive/My Drive/cropped_data/cropped_dir/1314.jpg+हॉल', '/content/drive/My Drive/cropped_data/cropped_dir/1315.jpg+एक', '/content/drive/My Drive/cropped_data/cropped_dir/1316.jpg+कदम', '/content/drive/My Drive/cropped_data/cropped_dir/1317.jpg+स्वच्छता', '/content/drive/My Drive/cropped_data/cropped_dir/1318.jpg+की', '/content/drive/My Drive/cropped_data/cropped_dir/1319.jpg+ओर', '/content/drive/My Drive/cropped_data/cropped_dir/1320.jpg+स्वच्छ', '/content/drive/My Drive/cropped_data/cropped_dir/1321.jpg+भारत', '/content/drive/My Drive/cropped_data/cropped_dir/1322.jpg+श्री', '/content/drive/My Drive/cropped_data/cropped_dir/1323.jpg+रामचंद्र', '/content/drive/My Drive/cropped_data/cropped_dir/1324.jpg+कृपाल', '/content/drive/My Drive/cropped_data/cropped_dir/1325.jpg+भज', '/content/drive/My Drive/cropped_data/cropped_dir/1326.jpg+मन', '/content/drive/My Drive/cropped_data/cropped_dir/1327.jpg+हरण', '/content/drive/My Drive/cropped_data/cropped_dir/1328.jpg+भव', '/content/drive/My Drive/cropped_data/cropped_dir/1329.jpg+भय', '/content/drive/My Drive/cropped_data/cropped_dir/1330.jpg+दारुणम्', '/content/drive/My Drive/cropped_data/cropped_dir/1331.jpg+नव', '/content/drive/My Drive/cropped_data/cropped_dir/1332.jpg+कंजलोचन', '/content/drive/My Drive/cropped_data/cropped_dir/1333.jpg+कंज', '/content/drive/My Drive/cropped_data/cropped_dir/1334.jpg+कंज', '/content/drive/My Drive/cropped_data/cropped_dir/1335.jpg+मुख', '/content/drive/My Drive/cropped_data/cropped_dir/1336.jpg+कर', '/content/drive/My Drive/cropped_data/cropped_dir/1337.jpg+कंजारुणम्', '/content/drive/My Drive/cropped_data/cropped_dir/1338.jpg+पद', '/content/drive/My Drive/cropped_data/cropped_dir/1339.jpg+कंप्यूटर', '/content/drive/My Drive/cropped_data/cropped_dir/1340.jpg+विजन', '/content/drive/My Drive/cropped_data/cropped_dir/1341.jpg+लैब', '/content/drive/My Drive/cropped_data/cropped_dir/1342.jpg+इटारसी', '/content/drive/My Drive/cropped_data/cropped_dir/1343.jpg+जं', '/content/drive/My Drive/cropped_data/cropped_dir/1344.jpg+समुद्र', '/content/drive/My Drive/cropped_data/cropped_dir/1345.jpg+तल', '/content/drive/My Drive/cropped_data/cropped_dir/1346.jpg+से', '/content/drive/My Drive/cropped_data/cropped_dir/1347.jpg+ऊँचाई', '/content/drive/My Drive/cropped_data/cropped_dir/1348.jpg+मी', '/content/drive/My Drive/cropped_data/cropped_dir/1349.jpg+पश्चिम', '/content/drive/My Drive/cropped_data/cropped_dir/1350.jpg+मध्य', '/content/drive/My Drive/cropped_data/cropped_dir/1351.jpg+रेल', '/content/drive/My Drive/cropped_data/cropped_dir/1352.jpg+विंध्याचल', '/content/drive/My Drive/cropped_data/cropped_dir/1353.jpg+अधिनस्थ', '/content/drive/My Drive/cropped_data/cropped_dir/1354.jpg+कर्मचारी', '/content/drive/My Drive/cropped_data/cropped_dir/1355.jpg+विश्राम', '/content/drive/My Drive/cropped_data/cropped_dir/1356.jpg+गृह', '/content/drive/My Drive/cropped_data/cropped_dir/1357.jpg+इटारसी', '/content/drive/My Drive/cropped_data/cropped_dir/1358.jpg+जंक्शन', '/content/drive/My Drive/cropped_data/cropped_dir/1359.jpg+नगर', '/content/drive/My Drive/cropped_data/cropped_dir/1360.jpg+पालिका', '/content/drive/My Drive/cropped_data/cropped_dir/1361.jpg+परिसद', '/content/drive/My Drive/cropped_data/cropped_dir/1362.jpg+इटारसी', '/content/drive/My Drive/cropped_data/cropped_dir/1363.jpg+सेल्फी', '/content/drive/My Drive/cropped_data/cropped_dir/1364.jpg+जोन', '/content/drive/My Drive/cropped_data/cropped_dir/1365.jpg+रेलवे', '/content/drive/My Drive/cropped_data/cropped_dir/1366.jpg+स्वास्थ्य', '/content/drive/My Drive/cropped_data/cropped_dir/1367.jpg+केन्द्र', '/content/drive/My Drive/cropped_data/cropped_dir/1368.jpg+इटारसी', '/content/drive/My Drive/cropped_data/cropped_dir/1369.jpg+पश्चिम', '/content/drive/My Drive/cropped_data/cropped_dir/1370.jpg+मध्य', '/content/drive/My Drive/cropped_data/cropped_dir/1371.jpg+रेल', '/content/drive/My Drive/cropped_data/cropped_dir/1372.jpg+रेलवे', '/content/drive/My Drive/cropped_data/cropped_dir/1373.jpg+स्वास्थ्य', '/content/drive/My Drive/cropped_data/cropped_dir/1374.jpg+केन्द्र', '/content/drive/My Drive/cropped_data/cropped_dir/1375.jpg+पश्चिम', '/content/drive/My Drive/cropped_data/cropped_dir/1376.jpg+मध्य', '/content/drive/My Drive/cropped_data/cropped_dir/1377.jpg+रेल', '/content/drive/My Drive/cropped_data/cropped_dir/1378.jpg+इटारसी', '/content/drive/My Drive/cropped_data/cropped_dir/1379.jpg+सरयु', '/content/drive/My Drive/cropped_data/cropped_dir/1380.jpg+छात्रावास', '/content/drive/My Drive/cropped_data/cropped_dir/1381.jpg+शरावती', '/content/drive/My Drive/cropped_data/cropped_dir/1382.jpg+केंद्रीय', '/content/drive/My Drive/cropped_data/cropped_dir/1383.jpg+पुस्तकालय', '/content/drive/My Drive/cropped_data/cropped_dir/1384.jpg+छात्रावास', '/content/drive/My Drive/cropped_data/cropped_dir/1385.jpg+सरदार', '/content/drive/My Drive/cropped_data/cropped_dir/1386.jpg+बल्लभ', '/content/drive/My Drive/cropped_data/cropped_dir/1387.jpg+भाई', '/content/drive/My Drive/cropped_data/cropped_dir/1388.jpg+पटैल', '/content/drive/My Drive/cropped_data/cropped_dir/1389.jpg+समाज', '/content/drive/My Drive/cropped_data/cropped_dir/1390.jpg+भवन', '/content/drive/My Drive/cropped_data/cropped_dir/1391.jpg+वर्मा', '/content/drive/My Drive/cropped_data/cropped_dir/1392.jpg+कालोनी', '/content/drive/My Drive/cropped_data/cropped_dir/1393.jpg+सरदार', '/content/drive/My Drive/cropped_data/cropped_dir/1394.jpg+पटैल', '/content/drive/My Drive/cropped_data/cropped_dir/1395.jpg+समाज', '/content/drive/My Drive/cropped_data/cropped_dir/1396.jpg+सेवा', '/content/drive/My Drive/cropped_data/cropped_dir/1397.jpg+समिती', '/content/drive/My Drive/cropped_data/cropped_dir/1398.jpg+इटारसी', '/content/drive/My Drive/cropped_data/cropped_dir/1399.jpg+भारतीय', '/content/drive/My Drive/cropped_data/cropped_dir/1400.jpg+डाक', '/content/drive/My Drive/cropped_data/cropped_dir/1401.jpg+इटारसी', '/content/drive/My Drive/cropped_data/cropped_dir/1402.jpg+मुख्य', '/content/drive/My Drive/cropped_data/cropped_dir/1403.jpg+डाकघर', '/content/drive/My Drive/cropped_data/cropped_dir/1404.jpg+कार्यालय', '/content/drive/My Drive/cropped_data/cropped_dir/1405.jpg+सीनियर', '/content/drive/My Drive/cropped_data/cropped_dir/1406.jpg+सेक्शन', '/content/drive/My Drive/cropped_data/cropped_dir/1407.jpg+इंजीनियर', '/content/drive/My Drive/cropped_data/cropped_dir/1408.jpg+संकेत', '/content/drive/My Drive/cropped_data/cropped_dir/1409.jpg+पमरे', '/content/drive/My Drive/cropped_data/cropped_dir/1410.jpg+इटारसी', '/content/drive/My Drive/cropped_data/cropped_dir/1411.jpg+स्वागत', '/content/drive/My Drive/cropped_data/cropped_dir/1412.jpg+वंदन', '/content/drive/My Drive/cropped_data/cropped_dir/1413.jpg+अभिनन्दन', '/content/drive/My Drive/cropped_data/cropped_dir/1414.jpg+श्री', '/content/drive/My Drive/cropped_data/cropped_dir/1415.jpg+सांई', '/content/drive/My Drive/cropped_data/cropped_dir/1416.jpg+सेवा', '/content/drive/My Drive/cropped_data/cropped_dir/1417.jpg+समिति', '/content/drive/My Drive/cropped_data/cropped_dir/1418.jpg+श्री', '/content/drive/My Drive/cropped_data/cropped_dir/1419.jpg+खेड़ापति', '/content/drive/My Drive/cropped_data/cropped_dir/1420.jpg+माता', '/content/drive/My Drive/cropped_data/cropped_dir/1421.jpg+मंदिर', '/content/drive/My Drive/cropped_data/cropped_dir/1422.jpg+सी', '/content/drive/My Drive/cropped_data/cropped_dir/1423.jpg+पी', '/content/drive/My Drive/cropped_data/cropped_dir/1424.jpg+ई', '/content/drive/My Drive/cropped_data/cropped_dir/1425.jpg+गेट', '/content/drive/My Drive/cropped_data/cropped_dir/1426.jpg+पुरानी', '/content/drive/My Drive/cropped_data/cropped_dir/1427.jpg+इटारसी', '/content/drive/My Drive/cropped_data/cropped_dir/1428.jpg+पश्चिम', '/content/drive/My Drive/cropped_data/cropped_dir/1429.jpg+मध्य', '/content/drive/My Drive/cropped_data/cropped_dir/1430.jpg+रेलवे', '/content/drive/My Drive/cropped_data/cropped_dir/1431.jpg+संजीवनी', '/content/drive/My Drive/cropped_data/cropped_dir/1432.jpg+उद्यान', '/content/drive/My Drive/cropped_data/cropped_dir/1433.jpg+इटारसी', '/content/drive/My Drive/cropped_data/cropped_dir/1434.jpg+भारतीय', '/content/drive/My Drive/cropped_data/cropped_dir/1435.jpg+रेल', '/content/drive/My Drive/cropped_data/cropped_dir/1436.jpg+के', '/content/drive/My Drive/cropped_data/cropped_dir/1437.jpg+गौरवपूर्ण', '/content/drive/My Drive/cropped_data/cropped_dir/1438.jpg+के', '/content/drive/My Drive/cropped_data/cropped_dir/1439.jpg+उपलक्ष्य', '/content/drive/My Drive/cropped_data/cropped_dir/1440.jpg+में', '/content/drive/My Drive/cropped_data/cropped_dir/1441.jpg+निर्मित', '/content/drive/My Drive/cropped_data/cropped_dir/1442.jpg+पुलिस', '/content/drive/My Drive/cropped_data/cropped_dir/1443.jpg+थाना', '/content/drive/My Drive/cropped_data/cropped_dir/1444.jpg+इटारसी', '/content/drive/My Drive/cropped_data/cropped_dir/1445.jpg+सौजन्य', '/content/drive/My Drive/cropped_data/cropped_dir/1446.jpg+से', '/content/drive/My Drive/cropped_data/cropped_dir/1447.jpg+सेंट्रल', '/content/drive/My Drive/cropped_data/cropped_dir/1448.jpg+बैंक', '/content/drive/My Drive/cropped_data/cropped_dir/1449.jpg+ऑफ़', '/content/drive/My Drive/cropped_data/cropped_dir/1450.jpg+इंडिया', '/content/drive/My Drive/cropped_data/cropped_dir/1451.jpg+इटारसी', '/content/drive/My Drive/cropped_data/cropped_dir/1452.jpg+मध्य', '/content/drive/My Drive/cropped_data/cropped_dir/1453.jpg+भारत', '/content/drive/My Drive/cropped_data/cropped_dir/1454.jpg+का', '/content/drive/My Drive/cropped_data/cropped_dir/1455.jpg+सर्वश्रेष्ठ', '/content/drive/My Drive/cropped_data/cropped_dir/1456.jpg+सरिया', '/content/drive/My Drive/cropped_data/cropped_dir/1457.jpg+इटारसी', '/content/drive/My Drive/cropped_data/cropped_dir/1458.jpg+ऑटो', '/content/drive/My Drive/cropped_data/cropped_dir/1459.jpg+डील', '/content/drive/My Drive/cropped_data/cropped_dir/1460.jpg+एंड', '/content/drive/My Drive/cropped_data/cropped_dir/1461.jpg+ट्रेवल्स', '/content/drive/My Drive/cropped_data/cropped_dir/1462.jpg+टू', '/content/drive/My Drive/cropped_data/cropped_dir/1463.jpg+व्हीलर', '/content/drive/My Drive/cropped_data/cropped_dir/1464.jpg+एवं', '/content/drive/My Drive/cropped_data/cropped_dir/1465.jpg+फोर', '/content/drive/My Drive/cropped_data/cropped_dir/1466.jpg+व्हीलर', '/content/drive/My Drive/cropped_data/cropped_dir/1467.jpg+वाहन', '/content/drive/My Drive/cropped_data/cropped_dir/1468.jpg+खरीदने', '/content/drive/My Drive/cropped_data/cropped_dir/1469.jpg+बेचने', '/content/drive/My Drive/cropped_data/cropped_dir/1470.jpg+एवं', '/content/drive/My Drive/cropped_data/cropped_dir/1471.jpg+एक्सचेंज', '/content/drive/My Drive/cropped_data/cropped_dir/1472.jpg+के', '/content/drive/My Drive/cropped_data/cropped_dir/1473.jpg+लिए', '/content/drive/My Drive/cropped_data/cropped_dir/1474.jpg+सम्पर्क', '/content/drive/My Drive/cropped_data/cropped_dir/1475.jpg+करें', '/content/drive/My Drive/cropped_data/cropped_dir/1476.jpg+मंदिर', '/content/drive/My Drive/cropped_data/cropped_dir/1477.jpg+परिसर', '/content/drive/My Drive/cropped_data/cropped_dir/1478.jpg+कैमरे', '/content/drive/My Drive/cropped_data/cropped_dir/1479.jpg+की', '/content/drive/My Drive/cropped_data/cropped_dir/1480.jpg+निगरानी', '/content/drive/My Drive/cropped_data/cropped_dir/1481.jpg+में', '/content/drive/My Drive/cropped_data/cropped_dir/1482.jpg+हैं', '/content/drive/My Drive/cropped_data/cropped_dir/1483.jpg+स्वान', '/content/drive/My Drive/cropped_data/cropped_dir/1484.jpg+दल', '/content/drive/My Drive/cropped_data/cropped_dir/1485.jpg+रेल', '/content/drive/My Drive/cropped_data/cropped_dir/1486.jpg+सुरक्षा', '/content/drive/My Drive/cropped_data/cropped_dir/1487.jpg+बल', '/content/drive/My Drive/cropped_data/cropped_dir/1488.jpg+सुरक्षा', '/content/drive/My Drive/cropped_data/cropped_dir/1489.jpg+से', '/content/drive/My Drive/cropped_data/cropped_dir/1490.jpg+न', '/content/drive/My Drive/cropped_data/cropped_dir/1491.jpg+करो', '/content/drive/My Drive/cropped_data/cropped_dir/1492.jpg+मस्ती', '/content/drive/My Drive/cropped_data/cropped_dir/1493.jpg+वरना', '/content/drive/My Drive/cropped_data/cropped_dir/1494.jpg+जिंदगी', '/content/drive/My Drive/cropped_data/cropped_dir/1495.jpg+पड़ेगी', '/content/drive/My Drive/cropped_data/cropped_dir/1496.jpg+सस्ती', '/content/drive/My Drive/cropped_data/cropped_dir/1497.jpg+मातृ', '/content/drive/My Drive/cropped_data/cropped_dir/1498.jpg+श्री', '/content/drive/My Drive/cropped_data/cropped_dir/1499.jpg+फोटो', '/content/drive/My Drive/cropped_data/cropped_dir/1500.jpg+कॉपी', '/content/drive/My Drive/cropped_data/cropped_dir/1501.jpg+रेलवे', '/content/drive/My Drive/cropped_data/cropped_dir/1502.jpg+आरक्षण', '/content/drive/My Drive/cropped_data/cropped_dir/1503.jpg+बिजली', '/content/drive/My Drive/cropped_data/cropped_dir/1504.jpg+बिल', '/content/drive/My Drive/cropped_data/cropped_dir/1505.jpg+कमलेश', '/content/drive/My Drive/cropped_data/cropped_dir/1506.jpg+पटैल', '/content/drive/My Drive/cropped_data/cropped_dir/1507.jpg+मो', '/content/drive/My Drive/cropped_data/cropped_dir/1508.jpg+भारतीय', '/content/drive/My Drive/cropped_data/cropped_dir/1509.jpg+रेल', '/content/drive/My Drive/cropped_data/cropped_dir/1510.jpg+नारियल', '/content/drive/My Drive/cropped_data/cropped_dir/1511.jpg+यहाँ', '/content/drive/My Drive/cropped_data/cropped_dir/1512.jpg+पर', '/content/drive/My Drive/cropped_data/cropped_dir/1513.jpg+फोड़े', '/content/drive/My Drive/cropped_data/cropped_dir/1514.jpg+सावधान', '/content/drive/My Drive/cropped_data/cropped_dir/1515.jpg+सावधान', '/content/drive/My Drive/cropped_data/cropped_dir/1516.jpg+आप', '/content/drive/My Drive/cropped_data/cropped_dir/1517.jpg+सी', '/content/drive/My Drive/cropped_data/cropped_dir/1518.jpg+सी', '/content/drive/My Drive/cropped_data/cropped_dir/1519.jpg+टी', '/content/drive/My Drive/cropped_data/cropped_dir/1520.jpg+वी', '/content/drive/My Drive/cropped_data/cropped_dir/1521.jpg+की', '/content/drive/My Drive/cropped_data/cropped_dir/1522.jpg+निगरानी', '/content/drive/My Drive/cropped_data/cropped_dir/1523.jpg+में', '/content/drive/My Drive/cropped_data/cropped_dir/1524.jpg+विश्रामालय', '/content/drive/My Drive/cropped_data/cropped_dir/1525.jpg+पेय', '/content/drive/My Drive/cropped_data/cropped_dir/1526.jpg+जल', '/content/drive/My Drive/cropped_data/cropped_dir/1527.jpg+प्लेटफार्म', '/content/drive/My Drive/cropped_data/cropped_dir/1528.jpg+६व७', '/content/drive/My Drive/cropped_data/cropped_dir/1529.jpg+पीने', '/content/drive/My Drive/cropped_data/cropped_dir/1530.jpg+का', '/content/drive/My Drive/cropped_data/cropped_dir/1531.jpg+दिव्यांग', '/content/drive/My Drive/cropped_data/cropped_dir/1532.jpg+हेतु', '/content/drive/My Drive/cropped_data/cropped_dir/1533.jpg+ॐ', '/content/drive/My Drive/cropped_data/cropped_dir/1534.jpg+जय', '/content/drive/My Drive/cropped_data/cropped_dir/1535.jpg+श्री', '/content/drive/My Drive/cropped_data/cropped_dir/1536.jpg+राम', '/content/drive/My Drive/cropped_data/cropped_dir/1537.jpg+मंदिर', '/content/drive/My Drive/cropped_data/cropped_dir/1538.jpg+परिसर', '/content/drive/My Drive/cropped_data/cropped_dir/1539.jpg+कैमरे', '/content/drive/My Drive/cropped_data/cropped_dir/1540.jpg+की', '/content/drive/My Drive/cropped_data/cropped_dir/1541.jpg+निगरानी', '/content/drive/My Drive/cropped_data/cropped_dir/1542.jpg+में', '/content/drive/My Drive/cropped_data/cropped_dir/1543.jpg+हैं', '/content/drive/My Drive/cropped_data/cropped_dir/1544.jpg+आपके', '/content/drive/My Drive/cropped_data/cropped_dir/1545.jpg+द्वारा', '/content/drive/My Drive/cropped_data/cropped_dir/1546.jpg+फैलाई', '/content/drive/My Drive/cropped_data/cropped_dir/1547.jpg+गई', '/content/drive/My Drive/cropped_data/cropped_dir/1548.jpg+गंदगी', '/content/drive/My Drive/cropped_data/cropped_dir/1549.jpg+को', '/content/drive/My Drive/cropped_data/cropped_dir/1550.jpg+आपके', '/content/drive/My Drive/cropped_data/cropped_dir/1551.jpg+जैसा', '/content/drive/My Drive/cropped_data/cropped_dir/1552.jpg+ही', '/content/drive/My Drive/cropped_data/cropped_dir/1553.jpg+कोई', '/content/drive/My Drive/cropped_data/cropped_dir/1554.jpg+व्यक्ति', '/content/drive/My Drive/cropped_data/cropped_dir/1555.jpg+साफ', '/content/drive/My Drive/cropped_data/cropped_dir/1556.jpg+करता', '/content/drive/My Drive/cropped_data/cropped_dir/1557.jpg+है', '/content/drive/My Drive/cropped_data/cropped_dir/1558.jpg+पीने', '/content/drive/My Drive/cropped_data/cropped_dir/1559.jpg+का', '/content/drive/My Drive/cropped_data/cropped_dir/1560.jpg+पानी', '/content/drive/My Drive/cropped_data/cropped_dir/1561.jpg+केवल', '/content/drive/My Drive/cropped_data/cropped_dir/1562.jpg+दिव्यांग', '/content/drive/My Drive/cropped_data/cropped_dir/1563.jpg+हेतु', '/content/drive/My Drive/cropped_data/cropped_dir/1564.jpg+सुरक्षा', '/content/drive/My Drive/cropped_data/cropped_dir/1565.jpg+से', '/content/drive/My Drive/cropped_data/cropped_dir/1566.jpg+न', '/content/drive/My Drive/cropped_data/cropped_dir/1567.jpg+करो', '/content/drive/My Drive/cropped_data/cropped_dir/1568.jpg+मस्ती', '/content/drive/My Drive/cropped_data/cropped_dir/1569.jpg+वरना', '/content/drive/My Drive/cropped_data/cropped_dir/1570.jpg+जिंदगी', '/content/drive/My Drive/cropped_data/cropped_dir/1571.jpg+पड़ेगी', '/content/drive/My Drive/cropped_data/cropped_dir/1572.jpg+सस्ती', '/content/drive/My Drive/cropped_data/cropped_dir/1573.jpg+सोनी', '/content/drive/My Drive/cropped_data/cropped_dir/1574.jpg+जनरल', '/content/drive/My Drive/cropped_data/cropped_dir/1575.jpg+एवं', '/content/drive/My Drive/cropped_data/cropped_dir/1576.jpg+स्टेशनरी', '/content/drive/My Drive/cropped_data/cropped_dir/1577.jpg+जमानी', '/content/drive/My Drive/cropped_data/cropped_dir/1578.jpg+रोड', '/content/drive/My Drive/cropped_data/cropped_dir/1579.jpg+इटारसी', '/content/drive/My Drive/cropped_data/cropped_dir/1580.jpg+सोनी', '/content/drive/My Drive/cropped_data/cropped_dir/1581.jpg+जनरल', '/content/drive/My Drive/cropped_data/cropped_dir/1582.jpg+एवं', '/content/drive/My Drive/cropped_data/cropped_dir/1583.jpg+स्टेशनरी', '/content/drive/My Drive/cropped_data/cropped_dir/1584.jpg+फो', '/content/drive/My Drive/cropped_data/cropped_dir/1585.jpg+टो', '/content/drive/My Drive/cropped_data/cropped_dir/1586.jpg+कॉ', '/content/drive/My Drive/cropped_data/cropped_dir/1587.jpg+पी', '/content/drive/My Drive/cropped_data/cropped_dir/1588.jpg+फो', '/content/drive/My Drive/cropped_data/cropped_dir/1589.jpg+टो', '/content/drive/My Drive/cropped_data/cropped_dir/1590.jpg+का', '/content/drive/My Drive/cropped_data/cropped_dir/1591.jpg+पी', '/content/drive/My Drive/cropped_data/cropped_dir/1592.jpg+फो', '/content/drive/My Drive/cropped_data/cropped_dir/1593.jpg+टो', '/content/drive/My Drive/cropped_data/cropped_dir/1594.jpg+कॉ', '/content/drive/My Drive/cropped_data/cropped_dir/1595.jpg+पी', '/content/drive/My Drive/cropped_data/cropped_dir/1596.jpg+विश्व', '/content/drive/My Drive/cropped_data/cropped_dir/1597.jpg+हिन्दू', '/content/drive/My Drive/cropped_data/cropped_dir/1598.jpg+परिषद', '/content/drive/My Drive/cropped_data/cropped_dir/1599.jpg+बजरंग', '/content/drive/My Drive/cropped_data/cropped_dir/1600.jpg+दल', '/content/drive/My Drive/cropped_data/cropped_dir/1601.jpg+सुदामा', '/content/drive/My Drive/cropped_data/cropped_dir/1602.jpg+मैरिज', '/content/drive/My Drive/cropped_data/cropped_dir/1603.jpg+हॉल', '/content/drive/My Drive/cropped_data/cropped_dir/1604.jpg+प्रो', '/content/drive/My Drive/cropped_data/cropped_dir/1605.jpg+आकाश', '/content/drive/My Drive/cropped_data/cropped_dir/1606.jpg+गालर', '/content/drive/My Drive/cropped_data/cropped_dir/1607.jpg+वाहन', '/content/drive/My Drive/cropped_data/cropped_dir/1608.jpg+पार्किंग', '/content/drive/My Drive/cropped_data/cropped_dir/1609.jpg+अण्डर', '/content/drive/My Drive/cropped_data/cropped_dir/1610.jpg+फ्रेम', '/content/drive/My Drive/cropped_data/cropped_dir/1611.jpg+के', '/content/drive/My Drive/cropped_data/cropped_dir/1612.jpg+वाहा', '/content/drive/My Drive/cropped_data/cropped_dir/1613.jpg+में', '/content/drive/My Drive/cropped_data/cropped_dir/1614.jpg+स्थित', '/content/drive/My Drive/cropped_data/cropped_dir/1615.jpg+रेड', '/content/drive/My Drive/cropped_data/cropped_dir/1616.jpg+जैकिंग', '/content/drive/My Drive/cropped_data/cropped_dir/1617.jpg+पैड', '/content/drive/My Drive/cropped_data/cropped_dir/1618.jpg+उठायें', '/content/drive/My Drive/cropped_data/cropped_dir/1619.jpg+भोपाल', '/content/drive/My Drive/cropped_data/cropped_dir/1620.jpg+मंडल', '/content/drive/My Drive/cropped_data/cropped_dir/1621.jpg+पश्चिम', '/content/drive/My Drive/cropped_data/cropped_dir/1622.jpg+मध्य', '/content/drive/My Drive/cropped_data/cropped_dir/1623.jpg+मुख्य', '/content/drive/My Drive/cropped_data/cropped_dir/1624.jpg+परियोजनाए', '/content/drive/My Drive/cropped_data/cropped_dir/1625.jpg+बगरातवा', '/content/drive/My Drive/cropped_data/cropped_dir/1626.jpg+सोनतलाई', '/content/drive/My Drive/cropped_data/cropped_dir/1627.jpg+इटारसी', '/content/drive/My Drive/cropped_data/cropped_dir/1628.jpg+इटारसी', '/content/drive/My Drive/cropped_data/cropped_dir/1629.jpg+इटारसी', '/content/drive/My Drive/cropped_data/cropped_dir/1630.jpg+इटारसी', '/content/drive/My Drive/cropped_data/cropped_dir/1631.jpg+इटारसी', '/content/drive/My Drive/cropped_data/cropped_dir/1632.jpg+प्लेटफार्म', '/content/drive/My Drive/cropped_data/cropped_dir/1633.jpg+प्लेटफार्म', '/content/drive/My Drive/cropped_data/cropped_dir/1634.jpg+प्लेटफार्म', '/content/drive/My Drive/cropped_data/cropped_dir/1635.jpg+स्टेशन', '/content/drive/My Drive/cropped_data/cropped_dir/1636.jpg+स्टेशन', '/content/drive/My Drive/cropped_data/cropped_dir/1637.jpg+स्टेशन', '/content/drive/My Drive/cropped_data/cropped_dir/1638.jpg+स्टेशन', '/content/drive/My Drive/cropped_data/cropped_dir/1639.jpg+जबलपुर', '/content/drive/My Drive/cropped_data/cropped_dir/1640.jpg+मानिकपुर', '/content/drive/My Drive/cropped_data/cropped_dir/1641.jpg+५६१', '/content/drive/My Drive/cropped_data/cropped_dir/1642.jpg+किमी', '/content/drive/My Drive/cropped_data/cropped_dir/1643.jpg+रेलवे', '/content/drive/My Drive/cropped_data/cropped_dir/1644.jpg+विद्युतीकरण', '/content/drive/My Drive/cropped_data/cropped_dir/1645.jpg+क्रमांक', '/content/drive/My Drive/cropped_data/cropped_dir/1646.jpg+१', '/content/drive/My Drive/cropped_data/cropped_dir/1647.jpg+एवं', '/content/drive/My Drive/cropped_data/cropped_dir/1648.jpg+४५', '/content/drive/My Drive/cropped_data/cropped_dir/1649.jpg+पर', '/content/drive/My Drive/cropped_data/cropped_dir/1650.jpg+का', '/content/drive/My Drive/cropped_data/cropped_dir/1651.jpg+प्रावधान', '/content/drive/My Drive/cropped_data/cropped_dir/1652.jpg+१', '/content/drive/My Drive/cropped_data/cropped_dir/1653.jpg+१', '/content/drive/My Drive/cropped_data/cropped_dir/1654.jpg+एवं', '/content/drive/My Drive/cropped_data/cropped_dir/1655.jpg+एवं', '/content/drive/My Drive/cropped_data/cropped_dir/1656.jpg+एवं', '/content/drive/My Drive/cropped_data/cropped_dir/1657.jpg+क्रमांक', '/content/drive/My Drive/cropped_data/cropped_dir/1658.jpg+क्रमांक', '/content/drive/My Drive/cropped_data/cropped_dir/1659.jpg+पर', '/content/drive/My Drive/cropped_data/cropped_dir/1660.jpg+के', '/content/drive/My Drive/cropped_data/cropped_dir/1661.jpg+यात्री', '/content/drive/My Drive/cropped_data/cropped_dir/1662.jpg+प्रतीक्षालय', '/content/drive/My Drive/cropped_data/cropped_dir/1663.jpg+में', '/content/drive/My Drive/cropped_data/cropped_dir/1664.jpg+सुधार', '/content/drive/My Drive/cropped_data/cropped_dir/1665.jpg+कार्य', '/content/drive/My Drive/cropped_data/cropped_dir/1666.jpg+कार्य', '/content/drive/My Drive/cropped_data/cropped_dir/1667.jpg+के', '/content/drive/My Drive/cropped_data/cropped_dir/1668.jpg+कार्य', '/content/drive/My Drive/cropped_data/cropped_dir/1669.jpg+का', '/content/drive/My Drive/cropped_data/cropped_dir/1670.jpg+वाशेबल', '/content/drive/My Drive/cropped_data/cropped_dir/1671.jpg+रिप्लेसमेंट', '/content/drive/My Drive/cropped_data/cropped_dir/1672.jpg+३', '/content/drive/My Drive/cropped_data/cropped_dir/1673.jpg+४', '/content/drive/My Drive/cropped_data/cropped_dir/1674.jpg+५', '/content/drive/My Drive/cropped_data/cropped_dir/1675.jpg+का', '/content/drive/My Drive/cropped_data/cropped_dir/1676.jpg+२६', '/content/drive/My Drive/cropped_data/cropped_dir/1677.jpg+२६', '/content/drive/My Drive/cropped_data/cropped_dir/1678.jpg+ट्रेन', '/content/drive/My Drive/cropped_data/cropped_dir/1679.jpg+हेतु', '/content/drive/My Drive/cropped_data/cropped_dir/1680.jpg+३', '/content/drive/My Drive/cropped_data/cropped_dir/1681.jpg+एप्रोन', '/content/drive/My Drive/cropped_data/cropped_dir/1682.jpg+रेलवे', '/content/drive/My Drive/cropped_data/cropped_dir/1683.jpg+विस्तार', '/content/drive/My Drive/cropped_data/cropped_dir/1684.jpg+पेच', '/content/drive/My Drive/cropped_data/cropped_dir/1685.jpg+डबलिंग', '/content/drive/My Drive/cropped_data/cropped_dir/1686.jpg+किमी', '/content/drive/My Drive/cropped_data/cropped_dir/1687.jpg+लिफ्ट', '/content/drive/My Drive/cropped_data/cropped_dir/1688.jpg+राम', '/content/drive/My Drive/cropped_data/cropped_dir/1689.jpg+बोलो', '/content/drive/My Drive/cropped_data/cropped_dir/1690.jpg+राम', '/content/drive/My Drive/cropped_data/cropped_dir/1691.jpg+बोलो', '/content/drive/My Drive/cropped_data/cropped_dir/1692.jpg+पश्चिम', '/content/drive/My Drive/cropped_data/cropped_dir/1693.jpg+मध्य', '/content/drive/My Drive/cropped_data/cropped_dir/1694.jpg+रेल', '/content/drive/My Drive/cropped_data/cropped_dir/1695.jpg+संसथान', '/content/drive/My Drive/cropped_data/cropped_dir/1696.jpg+इटारसी', '/content/drive/My Drive/cropped_data/cropped_dir/1697.jpg+जल', '/content/drive/My Drive/cropped_data/cropped_dir/1698.jpg+ही', '/content/drive/My Drive/cropped_data/cropped_dir/1699.jpg+जीवन', '/content/drive/My Drive/cropped_data/cropped_dir/1700.jpg+है', '/content/drive/My Drive/cropped_data/cropped_dir/1701.jpg+पीने', '/content/drive/My Drive/cropped_data/cropped_dir/1702.jpg+का', '/content/drive/My Drive/cropped_data/cropped_dir/1703.jpg+सादा', '/content/drive/My Drive/cropped_data/cropped_dir/1704.jpg+पानी', '/content/drive/My Drive/cropped_data/cropped_dir/1705.jpg+संदीप', '/content/drive/My Drive/cropped_data/cropped_dir/1706.jpg+ढोल', '/content/drive/My Drive/cropped_data/cropped_dir/1707.jpg+शादी', '/content/drive/My Drive/cropped_data/cropped_dir/1708.jpg+विवाह', '/content/drive/My Drive/cropped_data/cropped_dir/1709.jpg+पार्टी', '/content/drive/My Drive/cropped_data/cropped_dir/1710.jpg+एवं', '/content/drive/My Drive/cropped_data/cropped_dir/1711.jpg+अन्य', '/content/drive/My Drive/cropped_data/cropped_dir/1712.jpg+सभी', '/content/drive/My Drive/cropped_data/cropped_dir/1713.jpg+शुभ', '/content/drive/My Drive/cropped_data/cropped_dir/1714.jpg+कार्यक्रम', '/content/drive/My Drive/cropped_data/cropped_dir/1715.jpg+के', '/content/drive/My Drive/cropped_data/cropped_dir/1716.jpg+आर्डर', '/content/drive/My Drive/cropped_data/cropped_dir/1717.jpg+लिए', '/content/drive/My Drive/cropped_data/cropped_dir/1718.jpg+जाते', '/content/drive/My Drive/cropped_data/cropped_dir/1719.jpg+हैं', '/content/drive/My Drive/cropped_data/cropped_dir/1720.jpg+मेघना', '/content/drive/My Drive/cropped_data/cropped_dir/1721.jpg+नासरे', '/content/drive/My Drive/cropped_data/cropped_dir/1722.jpg+सर्व', '/content/drive/My Drive/cropped_data/cropped_dir/1723.jpg+शिक्षा', '/content/drive/My Drive/cropped_data/cropped_dir/1724.jpg+अभियान', '/content/drive/My Drive/cropped_data/cropped_dir/1725.jpg+सब', '/content/drive/My Drive/cropped_data/cropped_dir/1726.jpg+पढ़ें', '/content/drive/My Drive/cropped_data/cropped_dir/1727.jpg+सब', '/content/drive/My Drive/cropped_data/cropped_dir/1728.jpg+बढ़ें', '/content/drive/My Drive/cropped_data/cropped_dir/1729.jpg+माँ', '/content/drive/My Drive/cropped_data/cropped_dir/1730.jpg+विजयासन', '/content/drive/My Drive/cropped_data/cropped_dir/1731.jpg+देवी', '/content/drive/My Drive/cropped_data/cropped_dir/1732.jpg+दरबार', '/content/drive/My Drive/cropped_data/cropped_dir/1733.jpg+इटारसी', '/content/drive/My Drive/cropped_data/cropped_dir/1734.jpg+बाबा', '/content/drive/My Drive/cropped_data/cropped_dir/1735.jpg+टी', '/content/drive/My Drive/cropped_data/cropped_dir/1736.jpg+स्टॉल', '/content/drive/My Drive/cropped_data/cropped_dir/1737.jpg+एवं', '/content/drive/My Drive/cropped_data/cropped_dir/1738.jpg+नाश्ता', '/content/drive/My Drive/cropped_data/cropped_dir/1739.jpg+कार्नर']\n",
            "1479 261\n"
          ],
          "name": "stdout"
        }
      ]
    },
    {
      "cell_type": "code",
      "metadata": {
        "id": "wjhCkDvcKwuM",
        "colab_type": "code",
        "colab": {}
      },
      "source": [
        "import cv2\n",
        "import matplotlib.pyplot as plt\n",
        "training_img = []\n",
        "training_txt = []\n",
        "train_input_length = []\n",
        "train_label_length = []\n",
        "orig_txt = []\n",
        " \n",
        "max_label_len = 0\n",
        "\n",
        " \n",
        "for i in range(len(train)):\n",
        "  image = train[i].split(\"+\")[0]\n",
        "  label=train[i].split(\"+\")[1]\n",
        "  image = plt.imread(image)\n",
        "  gray = cv2.cvtColor(image, cv2.COLOR_BGR2GRAY)\n",
        "  img=gray\n",
        "  h,w=img.shape\n",
        "  if h<w and h>70:\n",
        "    img=cv2.resize(img,(128,32))\n",
        "    img = np.expand_dims(img , axis = 2)\n",
        "    image_norm=img/255\n",
        "    if len(label)>max_label_len:\n",
        "      max_label_len=len(label)\n",
        "    orig_txt.append(label)   \n",
        "    train_label_length.append(len(label))\n",
        "    train_input_length.append(31)\n",
        "    training_img.append(image_norm)\n",
        "    training_txt.append(encode_to_labels(label)) \n",
        "\n",
        "valid_img = []\n",
        "valid_txt = []\n",
        "valid_input_length = []\n",
        "valid_label_length = []\n",
        "valid_orig_txt = []\n",
        "\n",
        "for i in range(len(test)):\n",
        "  image = test[i].split(\"+\")[0]\n",
        "  label=test[i].split(\"+\")[1]\n",
        "  image = plt.imread(image)\n",
        "  gray = cv2.cvtColor(image, cv2.COLOR_BGR2GRAY)\n",
        "  img=gray\n",
        "  h,w=img.shape\n",
        "  if h<w and h>70:\n",
        "  \n",
        "    img=cv2.resize(img,(128,32))\n",
        "    img = np.expand_dims(img , axis = 2)\n",
        "    image_norm=img/255\n",
        "    if len(label)>max_label_len:\n",
        "      max_label_len=len(label)\n",
        "\n",
        "    valid_orig_txt.append(label)   \n",
        "    valid_label_length.append(len(label))\n",
        "    valid_input_length.append(31)\n",
        "    valid_img.append(image_norm)\n",
        "    valid_txt.append(encode_to_labels(label))"
      ],
      "execution_count": 70,
      "outputs": []
    },
    {
      "cell_type": "code",
      "metadata": {
        "id": "FF9Q47ONf969",
        "colab_type": "code",
        "colab": {
          "base_uri": "https://localhost:8080/",
          "height": 51
        },
        "outputId": "9a6f6503-930a-4e43-c0f4-14d40a7a4adb"
      },
      "source": [
        "print(len(training_img),len(valid_img))\n",
        "print(max_label_len)"
      ],
      "execution_count": 71,
      "outputs": [
        {
          "output_type": "stream",
          "text": [
            "995 171\n",
            "14\n"
          ],
          "name": "stdout"
        }
      ]
    },
    {
      "cell_type": "code",
      "metadata": {
        "id": "yYri1-YbPvOx",
        "colab_type": "code",
        "colab": {}
      },
      "source": [
        "train_padded_txt = pad_sequences(training_txt, maxlen=max_label_len, padding='post', value =0)\n",
        "valid_padded_txt = pad_sequences(valid_txt, maxlen=max_label_len, padding='post', value = 0)"
      ],
      "execution_count": 72,
      "outputs": []
    },
    {
      "cell_type": "code",
      "metadata": {
        "id": "Mk_V2THR8y81",
        "colab_type": "code",
        "colab": {
          "base_uri": "https://localhost:8080/",
          "height": 68
        },
        "outputId": "80c78e13-666f-419c-e0ec-3bc34c901937"
      },
      "source": [
        "print(train_padded_txt[3])\n",
        "print(training_txt[3])\n",
        "print(orig_txt[3])"
      ],
      "execution_count": 73,
      "outputs": [
        {
          "output_type": "stream",
          "text": [
            "[22 65  0  0  0  0  0  0  0  0  0  0  0  0]\n",
            "[22, 65]\n",
            "की\n"
          ],
          "name": "stdout"
        }
      ]
    },
    {
      "cell_type": "code",
      "metadata": {
        "id": "Zykbb0XQQFPN",
        "colab_type": "code",
        "colab": {}
      },
      "source": [
        "inputs = Input(shape=(32,128,1))\n",
        "\n",
        "conv_1 = Conv2D(64, (3,3), activation = 'relu', padding='same')(inputs)\n",
        "batch_norm_1 = BatchNormalization()(conv_1)\n",
        "pool_1 = MaxPool2D(pool_size=(2, 2), strides=2)(batch_norm_1)\n",
        "\n",
        "conv_2 = Conv2D(128, (3,3), activation = 'relu', padding='same')(pool_1)\n",
        "batch_norm_2= BatchNormalization()(conv_2)\n",
        "pool_2 = MaxPool2D(pool_size=(2, 2), strides=2)(batch_norm_2)\n",
        " \n",
        "conv_3 = Conv2D(256, (3,3), activation = 'relu', padding='same')(pool_2)\n",
        "batch_norm_3 = BatchNormalization()(conv_3)\n",
        "conv_4 = Conv2D(256, (3,3), activation = 'relu', padding='same')(conv_3)\n",
        "batch_norm_4 = BatchNormalization()(conv_4)\n",
        "pool_4 = MaxPool2D(pool_size=(2, 1))(batch_norm_4)\n",
        " \n",
        "conv_5 = Conv2D(512, (3,3), activation = 'relu', padding='same')(pool_4)\n",
        "batch_norm_5 = BatchNormalization()(conv_5)\n",
        "conv_6 = Conv2D(512, (3,3), activation = 'relu', padding='same')(batch_norm_5)\n",
        "batch_norm_6 = BatchNormalization()(conv_6)\n",
        "pool_6 = MaxPool2D(pool_size=(2, 1))(batch_norm_6)\n",
        "\n",
        "conv_7 = Conv2D(512, (2,2), activation = 'relu')(pool_6)\n",
        "squeezed = Lambda(lambda x: K.squeeze(x, 1))(conv_7)\n",
        "\n",
        "\n",
        "blstm_1 = Bidirectional(LSTM(256, return_sequences=True, dropout = 0.2))(squeezed)\n",
        "blstm_2 = Bidirectional(LSTM(256, return_sequences=True, dropout = 0.2))(blstm_1)\n",
        "\n",
        "#GRU\n",
        "'''\n",
        "gru_1 = GRU(128, return_sequences=True, kernel_initializer='he_normal', name='gru1',dropout = 0.1)(squeezed)  # (None, 32, 512)\n",
        "gru_1b = GRU(128, return_sequences=True, go_backwards=True, kernel_initializer='he_normal', name='gru1_b',dropout = 0.1)(squeezed)\n",
        "reversed_gru_1b = Lambda(lambda inputTensor: K.reverse(inputTensor, axes=1)) (gru_1b)\n",
        "\n",
        "gru1_merged = add([gru_1, reversed_gru_1b])  # (None, 32, 512)\n",
        "gru1_merged = BatchNormalization()(gru1_merged)\n",
        "    \n",
        "gru_2 = GRU(128, return_sequences=True, kernel_initializer='he_normal', name='gru2',dropout = 0.1)(gru1_merged)\n",
        "gru_2b = GRU(128, return_sequences=True, go_backwards=True, kernel_initializer='he_normal', name='gru2_b',dropout = 0.1)(gru1_merged)\n",
        "reversed_gru_2b= Lambda(lambda inputTensor: K.reverse(inputTensor, axes=1)) (gru_2b)\n",
        "\n",
        "gru2_merged = concatenate([gru_2, reversed_gru_2b])  # (None, 32, 1024)\n",
        "gru2_merged = BatchNormalization()(gru2_merged)\n",
        "'''\n",
        " \n",
        "outputs = Dense(len(char_list)+1, activation = 'softmax')(blstm_2)\n",
        "\n",
        "# model to be used at test time\n",
        "act_model = Model(inputs, outputs)"
      ],
      "execution_count": 74,
      "outputs": []
    },
    {
      "cell_type": "code",
      "metadata": {
        "id": "3pMwJU0MQjoR",
        "colab_type": "code",
        "colab": {
          "base_uri": "https://localhost:8080/",
          "height": 867
        },
        "outputId": "8a2907dd-4f64-4173-c557-56989a1def63"
      },
      "source": [
        "act_model.summary()"
      ],
      "execution_count": 75,
      "outputs": [
        {
          "output_type": "stream",
          "text": [
            "Model: \"functional_13\"\n",
            "_________________________________________________________________\n",
            "Layer (type)                 Output Shape              Param #   \n",
            "=================================================================\n",
            "input_4 (InputLayer)         [(None, 32, 128, 1)]      0         \n",
            "_________________________________________________________________\n",
            "conv2d_21 (Conv2D)           (None, 32, 128, 64)       640       \n",
            "_________________________________________________________________\n",
            "batch_normalization_18 (Batc (None, 32, 128, 64)       256       \n",
            "_________________________________________________________________\n",
            "max_pooling2d_12 (MaxPooling (None, 16, 64, 64)        0         \n",
            "_________________________________________________________________\n",
            "conv2d_22 (Conv2D)           (None, 16, 64, 128)       73856     \n",
            "_________________________________________________________________\n",
            "batch_normalization_19 (Batc (None, 16, 64, 128)       512       \n",
            "_________________________________________________________________\n",
            "max_pooling2d_13 (MaxPooling (None, 8, 32, 128)        0         \n",
            "_________________________________________________________________\n",
            "conv2d_23 (Conv2D)           (None, 8, 32, 256)        295168    \n",
            "_________________________________________________________________\n",
            "conv2d_24 (Conv2D)           (None, 8, 32, 256)        590080    \n",
            "_________________________________________________________________\n",
            "batch_normalization_21 (Batc (None, 8, 32, 256)        1024      \n",
            "_________________________________________________________________\n",
            "max_pooling2d_14 (MaxPooling (None, 4, 32, 256)        0         \n",
            "_________________________________________________________________\n",
            "conv2d_25 (Conv2D)           (None, 4, 32, 512)        1180160   \n",
            "_________________________________________________________________\n",
            "batch_normalization_22 (Batc (None, 4, 32, 512)        2048      \n",
            "_________________________________________________________________\n",
            "conv2d_26 (Conv2D)           (None, 4, 32, 512)        2359808   \n",
            "_________________________________________________________________\n",
            "batch_normalization_23 (Batc (None, 4, 32, 512)        2048      \n",
            "_________________________________________________________________\n",
            "max_pooling2d_15 (MaxPooling (None, 2, 32, 512)        0         \n",
            "_________________________________________________________________\n",
            "conv2d_27 (Conv2D)           (None, 1, 31, 512)        1049088   \n",
            "_________________________________________________________________\n",
            "lambda_3 (Lambda)            (None, 31, 512)           0         \n",
            "_________________________________________________________________\n",
            "bidirectional_6 (Bidirection (None, 31, 512)           1574912   \n",
            "_________________________________________________________________\n",
            "bidirectional_7 (Bidirection (None, 31, 512)           1574912   \n",
            "_________________________________________________________________\n",
            "dense_3 (Dense)              (None, 31, 130)           66690     \n",
            "=================================================================\n",
            "Total params: 8,771,202\n",
            "Trainable params: 8,768,258\n",
            "Non-trainable params: 2,944\n",
            "_________________________________________________________________\n"
          ],
          "name": "stdout"
        }
      ]
    },
    {
      "cell_type": "code",
      "metadata": {
        "id": "8HDKbAKhQm20",
        "colab_type": "code",
        "colab": {}
      },
      "source": [
        "labels = Input(name='the_labels', shape=[max_label_len], dtype='float32')\n",
        "input_length = Input(name='input_length', shape=[1], dtype='int64')\n",
        "label_length = Input(name='label_length', shape=[1], dtype='int64')\n",
        " \n",
        " \n",
        "def ctc_lambda_func(args):\n",
        "    y_pred, labels, input_length, label_length = args\n",
        " \n",
        "    return K.ctc_batch_cost(labels, y_pred, input_length, label_length)\n",
        " \n",
        " \n",
        "loss_out = Lambda(ctc_lambda_func, output_shape=(1,), name='ctc')([outputs, labels, input_length, label_length])\n",
        "\n",
        "#model to be used at training time\n",
        "model = Model(inputs=[inputs, labels, input_length, label_length], outputs=loss_out)"
      ],
      "execution_count": 76,
      "outputs": []
    },
    {
      "cell_type": "code",
      "metadata": {
        "id": "JDICpSgRQuEy",
        "colab_type": "code",
        "colab": {}
      },
      "source": [
        "model.compile(loss={'ctc': lambda y_true, y_pred: y_pred}, optimizer = 'adam')\n",
        " \n",
        "filepath=\"best_model.hdf5\"\n",
        "checkpoint = ModelCheckpoint(filepath=filepath, monitor='val_loss', verbose=1, save_best_only=True, mode='auto')\n",
        "callbacks_list = [checkpoint]"
      ],
      "execution_count": 77,
      "outputs": []
    },
    {
      "cell_type": "code",
      "metadata": {
        "id": "U9cQUSNpQwJE",
        "colab_type": "code",
        "colab": {}
      },
      "source": [
        "training_img1 = np.array(training_img)\n",
        "train_input_length1 = np.array(train_input_length)\n",
        "train_label_length1 = np.array(train_label_length)\n",
        "\n",
        "valid_img1 = np.array(valid_img)\n",
        "valid_input_length1 = np.array(valid_input_length)\n",
        "valid_label_length1 = np.array(valid_label_length)"
      ],
      "execution_count": 78,
      "outputs": []
    },
    {
      "cell_type": "code",
      "metadata": {
        "id": "EhIzC8oSQ3Wq",
        "colab_type": "code",
        "colab": {}
      },
      "source": [
        "batch_size = 16\n",
        "epochs = 10\n",
        "model.fit(x=[training_img1, train_padded_txt, train_input_length1, train_label_length1],\n",
        "          y=np.zeros(len(training_img1)), \n",
        "          batch_size=batch_size, epochs = epochs, \n",
        "          validation_data = ([valid_img1, valid_padded_txt, valid_input_length1, valid_label_length1], [np.zeros(len(valid_img1))]),\n",
        "          verbose = 1 )"
      ],
      "execution_count": null,
      "outputs": []
    },
    {
      "cell_type": "code",
      "metadata": {
        "id": "zRNlnPge_lpW",
        "colab_type": "code",
        "colab": {}
      },
      "source": [
        "weight_path=\"best_model.hdf5\"\n",
        "act_model.save_weights(weight_path)"
      ],
      "execution_count": 86,
      "outputs": []
    },
    {
      "cell_type": "code",
      "metadata": {
        "id": "pQ4ILv5xQ9lY",
        "colab_type": "code",
        "colab": {
          "base_uri": "https://localhost:8080/",
          "height": 1000
        },
        "outputId": "2f96e14e-fd12-45c3-dd10-1e21857db7c0"
      },
      "source": [
        "act_model.load_weights('best_model.hdf5')\n",
        "\n",
        "prediction = act_model.predict(valid_img1[:30])\n",
        " \n",
        "# use CTC decoder\n",
        "out = K.get_value(K.ctc_decode(prediction, input_length=np.ones(prediction.shape[0])*prediction.shape[1],\n",
        "                         greedy=True)[0][0])\n",
        " \n",
        "# see the results\n",
        "i = 0\n",
        "for x in out:\n",
        "    print(\"original_text =  \", valid_orig_txt[i])\n",
        "    print(\"predicted text = \", end = '')\n",
        "    for p in x:  \n",
        "        if int(p) != -1:\n",
        "            print(char_list[int(p)], end = '')       \n",
        "    print('\\n')\n",
        "    i+=1"
      ],
      "execution_count": 87,
      "outputs": [
        {
          "output_type": "stream",
          "text": [
            "original_text =   छात्रावास\n",
            "predicted text = छात्रावास\n",
            "\n",
            "original_text =   समिति\n",
            "predicted text = समित\n",
            "\n",
            "original_text =   पुस्तकालय\n",
            "predicted text = पुस्तालर\n",
            "\n",
            "original_text =   विवाह\n",
            "predicted text = लिफ्ाद\n",
            "\n",
            "original_text =   कर्मचारी\n",
            "predicted text = कर्मचारी\n",
            "\n",
            "original_text =   प\n",
            "predicted text = प\n",
            "\n",
            "original_text =   सी\n",
            "predicted text = सी\n",
            "\n",
            "original_text =   जीवन\n",
            "predicted text = जौतन\n",
            "\n",
            "original_text =   विश्राम\n",
            "predicted text = विव्याम\n",
            "\n",
            "original_text =   ध्यान\n",
            "predicted text = स्ान\n",
            "\n",
            "original_text =   उपयोग\n",
            "predicted text = जाोंज\n",
            "\n",
            "original_text =   न\n",
            "predicted text = कर\n",
            "\n",
            "original_text =   स्कूल\n",
            "predicted text = स्वत\n",
            "\n",
            "original_text =   स्टेशन\n",
            "predicted text = सेलल\n",
            "\n",
            "original_text =   इटारसी\n",
            "predicted text = इटारसी\n",
            "\n",
            "original_text =   एस\n",
            "predicted text = एुरण\n",
            "\n",
            "original_text =   यात्री\n",
            "predicted text = जाी\n",
            "\n",
            "original_text =   रेल\n",
            "predicted text = रेल\n",
            "\n",
            "original_text =   द्वितीय\n",
            "predicted text = विजीय\n",
            "\n",
            "original_text =   रेल\n",
            "predicted text = रेलल\n",
            "\n",
            "original_text =   सप्ताह\n",
            "predicted text = सराद\n",
            "\n",
            "original_text =   आर्डर\n",
            "predicted text = आर्य\n",
            "\n",
            "original_text =   वैगन\n",
            "predicted text = वैगाा\n",
            "\n",
            "original_text =   गृह\n",
            "predicted text = रू\n",
            "\n",
            "original_text =   दिनेश\n",
            "predicted text = दिजय\n",
            "\n",
            "original_text =   सावधान\n",
            "predicted text = सावान\n",
            "\n",
            "original_text =   हनुमान\n",
            "predicted text = हुममान\n",
            "\n",
            "original_text =   मूर्तिकार\n",
            "predicted text = कर्रेक\n",
            "\n",
            "original_text =   मध्य\n",
            "predicted text = धारय\n",
            "\n",
            "original_text =   वताकुलित\n",
            "predicted text = चाात्लित\n",
            "\n"
          ],
          "name": "stdout"
        }
      ]
    }
  ]
}